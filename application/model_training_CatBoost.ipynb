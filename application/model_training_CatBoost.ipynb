{
 "cells": [
  {
   "cell_type": "markdown",
   "metadata": {},
   "source": [
    "### Обучение модели градиентного бустинга -- CatBoost\n"
   ]
  },
  {
   "cell_type": "code",
   "execution_count": 1,
   "metadata": {},
   "outputs": [],
   "source": [
    "import sqlite3\n",
    "import pandas as pd\n",
    "from matplotlib import pyplot as plt\n",
    "import seaborn as sns\n",
    "import pickle\n",
    "import ipywidgets"
   ]
  },
  {
   "cell_type": "code",
   "execution_count": 2,
   "metadata": {},
   "outputs": [],
   "source": [
    "from catboost import Pool, CatBoostRegressor\n",
    "from sklearn.model_selection import GridSearchCV\n",
    "from sklearn.model_selection import train_test_split\n",
    "from sklearn.metrics import r2_score, mean_absolute_error"
   ]
  },
  {
   "cell_type": "code",
   "execution_count": 3,
   "metadata": {},
   "outputs": [],
   "source": [
    "conn = sqlite3.connect('db\\cian.db') \n",
    "          \n",
    "df = pd.read_sql_query ('''\n",
    "                               SELECT *\n",
    "                               FROM ad_data_cleaned_with_fixed_age\n",
    "                               ''', conn)"
   ]
  },
  {
   "cell_type": "code",
   "execution_count": 4,
   "metadata": {},
   "outputs": [],
   "source": [
    "# создание выходной (целевой) переменной\n",
    "y = df.price\n",
    "# создание входных переменных\n",
    "X = df.drop('price', axis = 1)\n",
    "# разбиение выбоки на тренировочную и тестовую в пропорции 80/20\n",
    "X_train, X_test, y_train, y_test = train_test_split(X, y, test_size=0.2, random_state=1)\n"
   ]
  },
  {
   "cell_type": "code",
   "execution_count": 5,
   "metadata": {},
   "outputs": [
    {
     "name": "stdout",
     "output_type": "stream",
     "text": [
      "Размеры выборок \n",
      "X_train: 66925,\n",
      "X_test: 16732,\n",
      "y_train: 66925,\n",
      "y_test: 16732\n"
     ]
    }
   ],
   "source": [
    "# размеры выборок\n",
    "print(f\"Размеры выборок \\nX_train: {len(X_train)},\\nX_test: {len(X_test)},\\ny_train: {len(y_train)},\\ny_test: {len(y_test)}\")"
   ]
  },
  {
   "cell_type": "code",
   "execution_count": 6,
   "metadata": {},
   "outputs": [],
   "source": [
    "# категориальные признаки\n",
    "categorical_features = df.select_dtypes(include=['object']).columns.tolist()"
   ]
  },
  {
   "cell_type": "code",
   "execution_count": 7,
   "metadata": {},
   "outputs": [],
   "source": [
    "train_pool = Pool(data=X_train, label=y_train, cat_features=categorical_features)\n",
    "test_pool = Pool(data=X_test, label=y_test, cat_features=categorical_features)"
   ]
  },
  {
   "cell_type": "code",
   "execution_count": 15,
   "metadata": {},
   "outputs": [],
   "source": [
    "model = CatBoostRegressor(loss_function='RMSE', eval_metric='MAE', learning_rate=0.2, iterations=1000, metric_period=50, early_stopping_rounds=20)"
   ]
  },
  {
   "cell_type": "code",
   "execution_count": 20,
   "metadata": {},
   "outputs": [
    {
     "data": {
      "application/vnd.jupyter.widget-view+json": {
       "model_id": "d4cff6aee9a34e3aa5f5a07f8723224e",
       "version_major": 2,
       "version_minor": 0
      },
      "text/plain": [
       "MetricVisualizer(layout=Layout(align_self='stretch', height='500px'))"
      ]
     },
     "metadata": {},
     "output_type": "display_data"
    },
    {
     "name": "stderr",
     "output_type": "stream",
     "text": [
      "Warning: Overfitting detector is active, thus evaluation metric is calculated on every iteration. 'metric_period' is ignored for evaluation metric.\n"
     ]
    },
    {
     "name": "stdout",
     "output_type": "stream",
     "text": [
      "0:\tlearn: 21014810.4038704\ttest: 20737006.4323843\tbest: 20737006.4323843 (0)\ttotal: 173ms\tremaining: 2m 52s\n",
      "50:\tlearn: 6638237.3257347\ttest: 6695575.6325213\tbest: 6695575.6325213 (50)\ttotal: 6.17s\tremaining: 1m 54s\n",
      "100:\tlearn: 6080431.9570329\ttest: 6303273.4417885\tbest: 6302604.6929655 (99)\ttotal: 12.1s\tremaining: 1m 48s\n",
      "150:\tlearn: 5737524.6180476\ttest: 6106373.2956568\tbest: 6106373.2956568 (150)\ttotal: 18.9s\tremaining: 1m 46s\n",
      "200:\tlearn: 5461497.5686475\ttest: 5938251.1018990\tbest: 5938251.1018990 (200)\ttotal: 26.1s\tremaining: 1m 43s\n",
      "250:\tlearn: 5235381.6925417\ttest: 5829757.9839048\tbest: 5829757.9839048 (250)\ttotal: 32.5s\tremaining: 1m 36s\n",
      "300:\tlearn: 5070335.5720276\ttest: 5751038.7232606\tbest: 5751038.7232606 (300)\ttotal: 38.7s\tremaining: 1m 29s\n",
      "350:\tlearn: 4889096.1402931\ttest: 5677215.5466838\tbest: 5675690.4211743 (348)\ttotal: 46.6s\tremaining: 1m 26s\n",
      "400:\tlearn: 4745061.0540397\ttest: 5607168.9757807\tbest: 5607168.9757807 (400)\ttotal: 52.7s\tremaining: 1m 18s\n",
      "450:\tlearn: 4615681.4437137\ttest: 5553791.7427772\tbest: 5553791.7427772 (450)\ttotal: 58.7s\tremaining: 1m 11s\n",
      "500:\tlearn: 4508723.1754619\ttest: 5513668.4712123\tbest: 5513668.4712123 (500)\ttotal: 1m 4s\tremaining: 1m 4s\n",
      "550:\tlearn: 4416751.1451520\ttest: 5473806.2607574\tbest: 5472881.4483013 (546)\ttotal: 1m 10s\tremaining: 57.6s\n",
      "600:\tlearn: 4325081.5756351\ttest: 5427300.7919102\tbest: 5427268.9658438 (599)\ttotal: 1m 16s\tremaining: 51s\n",
      "650:\tlearn: 4234440.7258477\ttest: 5381463.7144050\tbest: 5381463.7144050 (650)\ttotal: 1m 23s\tremaining: 44.9s\n",
      "700:\tlearn: 4155984.5379732\ttest: 5352619.2289611\tbest: 5352087.3590495 (698)\ttotal: 1m 29s\tremaining: 38.3s\n",
      "750:\tlearn: 4076199.3754059\ttest: 5304492.1480287\tbest: 5304492.1480287 (750)\ttotal: 1m 35s\tremaining: 31.8s\n",
      "800:\tlearn: 4007503.6553468\ttest: 5283040.3264785\tbest: 5283040.3264785 (800)\ttotal: 1m 43s\tremaining: 25.6s\n",
      "850:\tlearn: 3939749.0397316\ttest: 5251442.1644260\tbest: 5251442.1644260 (850)\ttotal: 1m 49s\tremaining: 19.2s\n",
      "900:\tlearn: 3877788.1092089\ttest: 5231358.3780945\tbest: 5230037.7594389 (895)\ttotal: 1m 55s\tremaining: 12.7s\n",
      "950:\tlearn: 3827787.2540752\ttest: 5214478.8457363\tbest: 5214478.8457363 (950)\ttotal: 2m 2s\tremaining: 6.32s\n",
      "999:\tlearn: 3768492.2835460\ttest: 5196603.8535708\tbest: 5196603.8535708 (999)\ttotal: 2m 9s\tremaining: 0us\n",
      "\n",
      "bestTest = 5196603.854\n",
      "bestIteration = 999\n",
      "\n"
     ]
    },
    {
     "data": {
      "text/plain": [
       "<catboost.core.CatBoostRegressor at 0x1b8b58b4250>"
      ]
     },
     "execution_count": 20,
     "metadata": {},
     "output_type": "execute_result"
    }
   ],
   "source": [
    "model.fit(train_pool, eval_set=test_pool, plot=True)"
   ]
  },
  {
   "cell_type": "code",
   "execution_count": 21,
   "metadata": {},
   "outputs": [],
   "source": [
    "pred = model.predict(test_pool)"
   ]
  },
  {
   "cell_type": "code",
   "execution_count": 22,
   "metadata": {},
   "outputs": [
    {
     "name": "stdout",
     "output_type": "stream",
     "text": [
      "R^2: 0.8944305277466743\n",
      "MAE:  5196603.858592113\n"
     ]
    }
   ],
   "source": [
    "print('R^2:', r2_score(y_test, pred))\n",
    "print('MAE: ', mean_absolute_error(y_test, pred))"
   ]
  },
  {
   "cell_type": "markdown",
   "metadata": {},
   "source": [
    "Модель CatBoost показала большую эффективность по сравнению с моделью градиентного бустинга из sklearn, но не достигла точности ранее обученой модели Random Forest."
   ]
  },
  {
   "cell_type": "code",
   "execution_count": 25,
   "metadata": {},
   "outputs": [
    {
     "data": {
      "text/plain": [
       "Text(0.5, 0, 'CatBoost Feature Importance')"
      ]
     },
     "execution_count": 25,
     "metadata": {},
     "output_type": "execute_result"
    },
    {
     "data": {
      "image/png": "[encoded data removed]",
      "text/plain": [
       "<Figure size 432x288 with 1 Axes>"
      ]
     },
     "metadata": {
      "needs_background": "light"
     },
     "output_type": "display_data"
    }
   ],
   "source": [
    "# важность признаков\n",
    "sorted_feature_importance = model.feature_importances_.argsort()\n",
    "plt.barh(X.columns[sorted_feature_importance], \n",
    "        model.feature_importances_[sorted_feature_importance], \n",
    "        color='turquoise')\n",
    "plt.xlabel(\"CatBoost Feature Importance\")"
   ]
  },
  {
   "cell_type": "code",
   "execution_count": 28,
   "metadata": {},
   "outputs": [],
   "source": [
    "# сохранение модели\n",
    "with open('fitted_models/catboost.pkl', 'wb') as f:\n",
    "    pickle.dump(model, f)"
   ]
  },
  {
   "cell_type": "markdown",
   "metadata": {},
   "source": [
    "CatBoost с подбором гиперпараметров при помощи GridSearch"
   ]
  },
  {
   "cell_type": "code",
   "execution_count": 29,
   "metadata": {},
   "outputs": [],
   "source": [
    "model_cb = CatBoostRegressor(loss_function='RMSE', eval_metric='MAE')"
   ]
  },
  {
   "cell_type": "code",
   "execution_count": 30,
   "metadata": {},
   "outputs": [],
   "source": [
    "parameters = {'depth': [6, 8, 10], 'learning_rate': [0.05, 0.1, 0.2], 'l2_leaf_reg': [1, 3, 5,], 'iterations': [200, 500, 1000], 'early_stopping_rounds': [50]}"
   ]
  },
  {
   "cell_type": "code",
   "execution_count": null,
   "metadata": {},
   "outputs": [],
   "source": [
    "grid = model_cb.grid_search(parameters, train_pool, plot=True)"
   ]
  },
  {
   "cell_type": "code",
   "execution_count": null,
   "metadata": {},
   "outputs": [],
   "source": [
    "print(\" Results from Grid Search \" )\n",
    "print(\"\\n The best estimator across ALL searched params:\\n\", grid.best_estimator_)\n",
    "print(\"\\n The best score across ALL searched params:\\n\", grid.best_score_)\n",
    "print(\"\\n The best parameters across ALL searched params:\\n\", grid.best_params_)"
   ]
  },
  {
   "cell_type": "code",
   "execution_count": null,
   "metadata": {},
   "outputs": [],
   "source": [
    "pred = model_cb.predict(test_pool)"
   ]
  },
  {
   "cell_type": "code",
   "execution_count": null,
   "metadata": {},
   "outputs": [],
   "source": [
    "print('R^2:', r2_score(y_test, pred))\n",
    "print('MAE: ', mean_absolute_error(y_test, pred))"
   ]
  },
  {
   "cell_type": "code",
   "execution_count": null,
   "metadata": {},
   "outputs": [],
   "source": [
    "# сохранение модели\n",
    "with open('fitted_models/catboost.pkl', 'wb') as f:\n",
    "    pickle.dump(model_cb, f)"
   ]
  }
 ],
 "metadata": {
  "kernelspec": {
   "display_name": "Python 3.8.8 64-bit",
   "language": "python",
   "name": "python3"
  },
  "language_info": {
   "codemirror_mode": {
    "name": "ipython",
    "version": 3
   },
   "file_extension": ".py",
   "mimetype": "text/x-python",
   "name": "python",
   "nbconvert_exporter": "python",
   "pygments_lexer": "ipython3",
   "version": "3.8.8"
  },
  "orig_nbformat": 4,
  "vscode": {
   "interpreter": {
    "hash": "b837d6f52d58c74fd82dbfa8ea93f8a02691730b5f625eb00e62e727cdc52078"
   }
  }
 },
 "nbformat": 4,
 "nbformat_minor": 2
}
