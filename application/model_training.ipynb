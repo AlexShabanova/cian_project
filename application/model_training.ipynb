{
 "cells": [
  {
   "cell_type": "markdown",
   "metadata": {},
   "source": [
    "### Model Training / Обучение моделей\n",
    "1. Разбиение выборки на тренировочную и тестовую\n",
    "2. Построение пайплайнов моделей\n",
    "3. Определение гиперпараметров\n",
    "4. Кроссвалидация и настройка гиперпараметров\n",
    "5. Оценка метрик качества модели и выбор модели-победителя\n",
    "\n",
    "Рассматриваемые модели:\n",
    "Elastic Net, Ridge Regression, Lasso Regression, Random Forest и Gradient Boosted Trees"
   ]
  },
  {
   "cell_type": "code",
   "execution_count": 5,
   "metadata": {},
   "outputs": [],
   "source": [
    "import sqlite3\n",
    "import numpy as np\n",
    "import pandas as pd\n",
    "from matplotlib import pyplot as plt\n",
    "import seaborn as sns\n",
    "from sklearn.linear_model import ElasticNet, Ridge, Lasso\n",
    "from sklearn.ensemble import RandomForestRegressor, GradientBoostingRegressor\n",
    "from sklearn.model_selection import train_test_split\n",
    "from sklearn.model_selection import GridSearchCV\n",
    "from sklearn.exceptions import NotFittedError\n",
    "import pickle"
   ]
  },
  {
   "cell_type": "code",
   "execution_count": 6,
   "metadata": {},
   "outputs": [],
   "source": [
    "from sklearn.pipeline import make_pipeline\n",
    "from sklearn.preprocessing import StandardScaler"
   ]
  },
  {
   "cell_type": "code",
   "execution_count": 7,
   "metadata": {},
   "outputs": [],
   "source": [
    "conn = sqlite3.connect('db\\cian.db') \n",
    "          \n",
    "df = pd.read_sql_query ('''\n",
    "                               SELECT *\n",
    "                               FROM analytical_base_table\n",
    "                               ''', conn)"
   ]
  },
  {
   "cell_type": "markdown",
   "metadata": {},
   "source": [
    "1. Разбиение выборки на тренировочную и тестовую"
   ]
  },
  {
   "cell_type": "code",
   "execution_count": 7,
   "metadata": {},
   "outputs": [],
   "source": [
    "# создание выходной (целевой) переменной\n",
    "y = df.price\n",
    "# создание входных переменных\n",
    "X = df.drop('price', axis = 1)"
   ]
  },
  {
   "cell_type": "code",
   "execution_count": 8,
   "metadata": {},
   "outputs": [],
   "source": [
    "# разбиение выбоки на тренировочную и тестовую в пропорции 80/20\n",
    "X_train, X_test, y_train, y_test = train_test_split(X, y, test_size=0.2, random_state=1)"
   ]
  },
  {
   "cell_type": "code",
   "execution_count": 15,
   "metadata": {},
   "outputs": [
    {
     "name": "stdout",
     "output_type": "stream",
     "text": [
      "Размеры выборок \n",
      "X_train: 66925,\n",
      "X_test: 16732,\n",
      "y_train: 66925,\n",
      "y_test: 16732\n"
     ]
    }
   ],
   "source": [
    "# размеры выборок\n",
    "print(f\"Размеры выборок \\nX_train: {len(X_train)},\\nX_test: {len(X_test)},\\ny_train: {len(y_train)},\\ny_test: {len(y_test)}\")"
   ]
  },
  {
   "cell_type": "markdown",
   "metadata": {},
   "source": [
    "2. Построение пайплайнов моделей"
   ]
  },
  {
   "cell_type": "code",
   "execution_count": 16,
   "metadata": {},
   "outputs": [
    {
     "data": {
      "text/html": [
       "<div>\n",
       "<style scoped>\n",
       "    .dataframe tbody tr th:only-of-type {\n",
       "        vertical-align: middle;\n",
       "    }\n",
       "\n",
       "    .dataframe tbody tr th {\n",
       "        vertical-align: top;\n",
       "    }\n",
       "\n",
       "    .dataframe thead th {\n",
       "        text-align: right;\n",
       "    }\n",
       "</style>\n",
       "<table border=\"1\" class=\"dataframe\">\n",
       "  <thead>\n",
       "    <tr style=\"text-align: right;\">\n",
       "      <th></th>\n",
       "      <th>rooms</th>\n",
       "      <th>mortgage</th>\n",
       "      <th>area</th>\n",
       "      <th>living_area</th>\n",
       "      <th>kitchen_area</th>\n",
       "      <th>floor</th>\n",
       "      <th>floors</th>\n",
       "      <th>ceiling_height</th>\n",
       "      <th>is_suspicious</th>\n",
       "      <th>property_age</th>\n",
       "      <th>...</th>\n",
       "      <th>heating_индивидуальный тепловой пункт</th>\n",
       "      <th>heating_котел/квартирное отопление</th>\n",
       "      <th>heating_центральное</th>\n",
       "      <th>interior_design_без ремонта</th>\n",
       "      <th>interior_design_дизайнерский</th>\n",
       "      <th>interior_design_евроремонт</th>\n",
       "      <th>interior_design_косметический</th>\n",
       "      <th>interior_design_пропущено</th>\n",
       "      <th>interior_design_черновой</th>\n",
       "      <th>interior_design_чистовой</th>\n",
       "    </tr>\n",
       "  </thead>\n",
       "  <tbody>\n",
       "    <tr>\n",
       "      <th>count</th>\n",
       "      <td>66925.0</td>\n",
       "      <td>66925.0</td>\n",
       "      <td>66925.0</td>\n",
       "      <td>66925.0</td>\n",
       "      <td>66925.0</td>\n",
       "      <td>66925.0</td>\n",
       "      <td>66925.0</td>\n",
       "      <td>66925.0</td>\n",
       "      <td>66925.0</td>\n",
       "      <td>66925.0</td>\n",
       "      <td>...</td>\n",
       "      <td>66925.0</td>\n",
       "      <td>66925.0</td>\n",
       "      <td>66925.0</td>\n",
       "      <td>66925.0</td>\n",
       "      <td>66925.0</td>\n",
       "      <td>66925.0</td>\n",
       "      <td>66925.0</td>\n",
       "      <td>66925.0</td>\n",
       "      <td>66925.0</td>\n",
       "      <td>66925.0</td>\n",
       "    </tr>\n",
       "    <tr>\n",
       "      <th>mean</th>\n",
       "      <td>1.9</td>\n",
       "      <td>0.8</td>\n",
       "      <td>69.7</td>\n",
       "      <td>39.2</td>\n",
       "      <td>12.8</td>\n",
       "      <td>9.5</td>\n",
       "      <td>18.8</td>\n",
       "      <td>2.8</td>\n",
       "      <td>0.0</td>\n",
       "      <td>18.5</td>\n",
       "      <td>...</td>\n",
       "      <td>0.0</td>\n",
       "      <td>0.0</td>\n",
       "      <td>1.0</td>\n",
       "      <td>0.2</td>\n",
       "      <td>0.1</td>\n",
       "      <td>0.1</td>\n",
       "      <td>0.2</td>\n",
       "      <td>0.3</td>\n",
       "      <td>0.0</td>\n",
       "      <td>0.1</td>\n",
       "    </tr>\n",
       "    <tr>\n",
       "      <th>std</th>\n",
       "      <td>1.1</td>\n",
       "      <td>0.4</td>\n",
       "      <td>51.2</td>\n",
       "      <td>32.6</td>\n",
       "      <td>7.3</td>\n",
       "      <td>8.5</td>\n",
       "      <td>12.1</td>\n",
       "      <td>0.3</td>\n",
       "      <td>0.0</td>\n",
       "      <td>26.7</td>\n",
       "      <td>...</td>\n",
       "      <td>0.1</td>\n",
       "      <td>0.0</td>\n",
       "      <td>0.2</td>\n",
       "      <td>0.4</td>\n",
       "      <td>0.3</td>\n",
       "      <td>0.3</td>\n",
       "      <td>0.4</td>\n",
       "      <td>0.4</td>\n",
       "      <td>0.2</td>\n",
       "      <td>0.3</td>\n",
       "    </tr>\n",
       "    <tr>\n",
       "      <th>min</th>\n",
       "      <td>-1.0</td>\n",
       "      <td>0.0</td>\n",
       "      <td>10.0</td>\n",
       "      <td>6.0</td>\n",
       "      <td>0.6</td>\n",
       "      <td>-1.0</td>\n",
       "      <td>1.0</td>\n",
       "      <td>2.4</td>\n",
       "      <td>0.0</td>\n",
       "      <td>-4.0</td>\n",
       "      <td>...</td>\n",
       "      <td>0.0</td>\n",
       "      <td>0.0</td>\n",
       "      <td>0.0</td>\n",
       "      <td>0.0</td>\n",
       "      <td>0.0</td>\n",
       "      <td>0.0</td>\n",
       "      <td>0.0</td>\n",
       "      <td>0.0</td>\n",
       "      <td>0.0</td>\n",
       "      <td>0.0</td>\n",
       "    </tr>\n",
       "    <tr>\n",
       "      <th>25%</th>\n",
       "      <td>1.0</td>\n",
       "      <td>1.0</td>\n",
       "      <td>41.0</td>\n",
       "      <td>20.2</td>\n",
       "      <td>8.3</td>\n",
       "      <td>3.0</td>\n",
       "      <td>10.0</td>\n",
       "      <td>2.6</td>\n",
       "      <td>0.0</td>\n",
       "      <td>-1.0</td>\n",
       "      <td>...</td>\n",
       "      <td>0.0</td>\n",
       "      <td>0.0</td>\n",
       "      <td>1.0</td>\n",
       "      <td>0.0</td>\n",
       "      <td>0.0</td>\n",
       "      <td>0.0</td>\n",
       "      <td>0.0</td>\n",
       "      <td>0.0</td>\n",
       "      <td>0.0</td>\n",
       "      <td>0.0</td>\n",
       "    </tr>\n",
       "    <tr>\n",
       "      <th>50%</th>\n",
       "      <td>2.0</td>\n",
       "      <td>1.0</td>\n",
       "      <td>57.3</td>\n",
       "      <td>31.3</td>\n",
       "      <td>10.9</td>\n",
       "      <td>7.0</td>\n",
       "      <td>16.0</td>\n",
       "      <td>2.7</td>\n",
       "      <td>0.0</td>\n",
       "      <td>4.0</td>\n",
       "      <td>...</td>\n",
       "      <td>0.0</td>\n",
       "      <td>0.0</td>\n",
       "      <td>1.0</td>\n",
       "      <td>0.0</td>\n",
       "      <td>0.0</td>\n",
       "      <td>0.0</td>\n",
       "      <td>0.0</td>\n",
       "      <td>0.0</td>\n",
       "      <td>0.0</td>\n",
       "      <td>0.0</td>\n",
       "    </tr>\n",
       "    <tr>\n",
       "      <th>75%</th>\n",
       "      <td>3.0</td>\n",
       "      <td>1.0</td>\n",
       "      <td>79.0</td>\n",
       "      <td>45.6</td>\n",
       "      <td>15.9</td>\n",
       "      <td>13.0</td>\n",
       "      <td>24.0</td>\n",
       "      <td>3.0</td>\n",
       "      <td>0.0</td>\n",
       "      <td>38.0</td>\n",
       "      <td>...</td>\n",
       "      <td>0.0</td>\n",
       "      <td>0.0</td>\n",
       "      <td>1.0</td>\n",
       "      <td>0.0</td>\n",
       "      <td>0.0</td>\n",
       "      <td>0.0</td>\n",
       "      <td>0.0</td>\n",
       "      <td>1.0</td>\n",
       "      <td>0.0</td>\n",
       "      <td>0.0</td>\n",
       "    </tr>\n",
       "    <tr>\n",
       "      <th>max</th>\n",
       "      <td>6.0</td>\n",
       "      <td>1.0</td>\n",
       "      <td>993.6</td>\n",
       "      <td>650.0</td>\n",
       "      <td>240.0</td>\n",
       "      <td>94.0</td>\n",
       "      <td>120.0</td>\n",
       "      <td>12.0</td>\n",
       "      <td>1.0</td>\n",
       "      <td>240.0</td>\n",
       "      <td>...</td>\n",
       "      <td>1.0</td>\n",
       "      <td>1.0</td>\n",
       "      <td>1.0</td>\n",
       "      <td>1.0</td>\n",
       "      <td>1.0</td>\n",
       "      <td>1.0</td>\n",
       "      <td>1.0</td>\n",
       "      <td>1.0</td>\n",
       "      <td>1.0</td>\n",
       "      <td>1.0</td>\n",
       "    </tr>\n",
       "  </tbody>\n",
       "</table>\n",
       "<p>8 rows × 387 columns</p>\n",
       "</div>"
      ],
      "text/plain": [
       "         rooms  mortgage     area  living_area  kitchen_area    floor  \\\n",
       "count  66925.0   66925.0  66925.0      66925.0       66925.0  66925.0   \n",
       "mean       1.9       0.8     69.7         39.2          12.8      9.5   \n",
       "std        1.1       0.4     51.2         32.6           7.3      8.5   \n",
       "min       -1.0       0.0     10.0          6.0           0.6     -1.0   \n",
       "25%        1.0       1.0     41.0         20.2           8.3      3.0   \n",
       "50%        2.0       1.0     57.3         31.3          10.9      7.0   \n",
       "75%        3.0       1.0     79.0         45.6          15.9     13.0   \n",
       "max        6.0       1.0    993.6        650.0         240.0     94.0   \n",
       "\n",
       "        floors  ceiling_height  is_suspicious  property_age  ...  \\\n",
       "count  66925.0         66925.0        66925.0       66925.0  ...   \n",
       "mean      18.8             2.8            0.0          18.5  ...   \n",
       "std       12.1             0.3            0.0          26.7  ...   \n",
       "min        1.0             2.4            0.0          -4.0  ...   \n",
       "25%       10.0             2.6            0.0          -1.0  ...   \n",
       "50%       16.0             2.7            0.0           4.0  ...   \n",
       "75%       24.0             3.0            0.0          38.0  ...   \n",
       "max      120.0            12.0            1.0         240.0  ...   \n",
       "\n",
       "       heating_индивидуальный тепловой пункт  \\\n",
       "count                                66925.0   \n",
       "mean                                     0.0   \n",
       "std                                      0.1   \n",
       "min                                      0.0   \n",
       "25%                                      0.0   \n",
       "50%                                      0.0   \n",
       "75%                                      0.0   \n",
       "max                                      1.0   \n",
       "\n",
       "       heating_котел/квартирное отопление  heating_центральное  \\\n",
       "count                             66925.0              66925.0   \n",
       "mean                                  0.0                  1.0   \n",
       "std                                   0.0                  0.2   \n",
       "min                                   0.0                  0.0   \n",
       "25%                                   0.0                  1.0   \n",
       "50%                                   0.0                  1.0   \n",
       "75%                                   0.0                  1.0   \n",
       "max                                   1.0                  1.0   \n",
       "\n",
       "       interior_design_без ремонта  interior_design_дизайнерский  \\\n",
       "count                      66925.0                       66925.0   \n",
       "mean                           0.2                           0.1   \n",
       "std                            0.4                           0.3   \n",
       "min                            0.0                           0.0   \n",
       "25%                            0.0                           0.0   \n",
       "50%                            0.0                           0.0   \n",
       "75%                            0.0                           0.0   \n",
       "max                            1.0                           1.0   \n",
       "\n",
       "       interior_design_евроремонт  interior_design_косметический  \\\n",
       "count                     66925.0                        66925.0   \n",
       "mean                          0.1                            0.2   \n",
       "std                           0.3                            0.4   \n",
       "min                           0.0                            0.0   \n",
       "25%                           0.0                            0.0   \n",
       "50%                           0.0                            0.0   \n",
       "75%                           0.0                            0.0   \n",
       "max                           1.0                            1.0   \n",
       "\n",
       "       interior_design_пропущено  interior_design_черновой  \\\n",
       "count                    66925.0                   66925.0   \n",
       "mean                         0.3                       0.0   \n",
       "std                          0.4                       0.2   \n",
       "min                          0.0                       0.0   \n",
       "25%                          0.0                       0.0   \n",
       "50%                          0.0                       0.0   \n",
       "75%                          1.0                       0.0   \n",
       "max                          1.0                       1.0   \n",
       "\n",
       "       interior_design_чистовой  \n",
       "count                   66925.0  \n",
       "mean                        0.1  \n",
       "std                         0.3  \n",
       "min                         0.0  \n",
       "25%                         0.0  \n",
       "50%                         0.0  \n",
       "75%                         0.0  \n",
       "max                         1.0  \n",
       "\n",
       "[8 rows x 387 columns]"
      ]
     },
     "execution_count": 16,
     "metadata": {},
     "output_type": "execute_result"
    }
   ],
   "source": [
    "# Описательные статистики X_train\n",
    "X_train.describe().round(1)"
   ]
  },
  {
   "cell_type": "markdown",
   "metadata": {},
   "source": [
    "Стандартизация данных"
   ]
  },
  {
   "cell_type": "code",
   "execution_count": 17,
   "metadata": {},
   "outputs": [],
   "source": [
    "# стандартизация X_train\n",
    "X_train_new = (X_train - X_train.mean())/X_train.std()"
   ]
  },
  {
   "cell_type": "code",
   "execution_count": 18,
   "metadata": {},
   "outputs": [
    {
     "data": {
      "text/html": [
       "<div>\n",
       "<style scoped>\n",
       "    .dataframe tbody tr th:only-of-type {\n",
       "        vertical-align: middle;\n",
       "    }\n",
       "\n",
       "    .dataframe tbody tr th {\n",
       "        vertical-align: top;\n",
       "    }\n",
       "\n",
       "    .dataframe thead th {\n",
       "        text-align: right;\n",
       "    }\n",
       "</style>\n",
       "<table border=\"1\" class=\"dataframe\">\n",
       "  <thead>\n",
       "    <tr style=\"text-align: right;\">\n",
       "      <th></th>\n",
       "      <th>rooms</th>\n",
       "      <th>mortgage</th>\n",
       "      <th>area</th>\n",
       "      <th>living_area</th>\n",
       "      <th>kitchen_area</th>\n",
       "      <th>floor</th>\n",
       "      <th>floors</th>\n",
       "      <th>ceiling_height</th>\n",
       "      <th>is_suspicious</th>\n",
       "      <th>property_age</th>\n",
       "      <th>...</th>\n",
       "      <th>heating_индивидуальный тепловой пункт</th>\n",
       "      <th>heating_котел/квартирное отопление</th>\n",
       "      <th>heating_центральное</th>\n",
       "      <th>interior_design_без ремонта</th>\n",
       "      <th>interior_design_дизайнерский</th>\n",
       "      <th>interior_design_евроремонт</th>\n",
       "      <th>interior_design_косметический</th>\n",
       "      <th>interior_design_пропущено</th>\n",
       "      <th>interior_design_черновой</th>\n",
       "      <th>interior_design_чистовой</th>\n",
       "    </tr>\n",
       "  </thead>\n",
       "  <tbody>\n",
       "    <tr>\n",
       "      <th>count</th>\n",
       "      <td>66925.0</td>\n",
       "      <td>66925.0</td>\n",
       "      <td>66925.0</td>\n",
       "      <td>66925.0</td>\n",
       "      <td>66925.0</td>\n",
       "      <td>66925.0</td>\n",
       "      <td>66925.0</td>\n",
       "      <td>66925.0</td>\n",
       "      <td>66925.0</td>\n",
       "      <td>66925.0</td>\n",
       "      <td>...</td>\n",
       "      <td>66925.0</td>\n",
       "      <td>66925.0</td>\n",
       "      <td>66925.0</td>\n",
       "      <td>66925.0</td>\n",
       "      <td>66925.0</td>\n",
       "      <td>66925.0</td>\n",
       "      <td>66925.0</td>\n",
       "      <td>66925.0</td>\n",
       "      <td>66925.0</td>\n",
       "      <td>66925.0</td>\n",
       "    </tr>\n",
       "    <tr>\n",
       "      <th>mean</th>\n",
       "      <td>-0.0</td>\n",
       "      <td>-0.0</td>\n",
       "      <td>0.0</td>\n",
       "      <td>0.0</td>\n",
       "      <td>-0.0</td>\n",
       "      <td>-0.0</td>\n",
       "      <td>-0.0</td>\n",
       "      <td>-0.0</td>\n",
       "      <td>-0.0</td>\n",
       "      <td>-0.0</td>\n",
       "      <td>...</td>\n",
       "      <td>0.0</td>\n",
       "      <td>-0.0</td>\n",
       "      <td>0.0</td>\n",
       "      <td>-0.0</td>\n",
       "      <td>0.0</td>\n",
       "      <td>-0.0</td>\n",
       "      <td>-0.0</td>\n",
       "      <td>-0.0</td>\n",
       "      <td>0.0</td>\n",
       "      <td>-0.0</td>\n",
       "    </tr>\n",
       "    <tr>\n",
       "      <th>std</th>\n",
       "      <td>1.0</td>\n",
       "      <td>1.0</td>\n",
       "      <td>1.0</td>\n",
       "      <td>1.0</td>\n",
       "      <td>1.0</td>\n",
       "      <td>1.0</td>\n",
       "      <td>1.0</td>\n",
       "      <td>1.0</td>\n",
       "      <td>1.0</td>\n",
       "      <td>1.0</td>\n",
       "      <td>...</td>\n",
       "      <td>1.0</td>\n",
       "      <td>1.0</td>\n",
       "      <td>1.0</td>\n",
       "      <td>1.0</td>\n",
       "      <td>1.0</td>\n",
       "      <td>1.0</td>\n",
       "      <td>1.0</td>\n",
       "      <td>1.0</td>\n",
       "      <td>1.0</td>\n",
       "      <td>1.0</td>\n",
       "    </tr>\n",
       "    <tr>\n",
       "      <th>min</th>\n",
       "      <td>-2.6</td>\n",
       "      <td>-2.1</td>\n",
       "      <td>-1.2</td>\n",
       "      <td>-1.0</td>\n",
       "      <td>-1.7</td>\n",
       "      <td>-1.2</td>\n",
       "      <td>-1.5</td>\n",
       "      <td>-1.2</td>\n",
       "      <td>-0.0</td>\n",
       "      <td>-0.8</td>\n",
       "      <td>...</td>\n",
       "      <td>-0.1</td>\n",
       "      <td>-0.0</td>\n",
       "      <td>-6.0</td>\n",
       "      <td>-0.5</td>\n",
       "      <td>-0.3</td>\n",
       "      <td>-0.4</td>\n",
       "      <td>-0.5</td>\n",
       "      <td>-0.6</td>\n",
       "      <td>-0.2</td>\n",
       "      <td>-0.4</td>\n",
       "    </tr>\n",
       "    <tr>\n",
       "      <th>25%</th>\n",
       "      <td>-0.8</td>\n",
       "      <td>0.5</td>\n",
       "      <td>-0.6</td>\n",
       "      <td>-0.6</td>\n",
       "      <td>-0.6</td>\n",
       "      <td>-0.8</td>\n",
       "      <td>-0.7</td>\n",
       "      <td>-0.6</td>\n",
       "      <td>-0.0</td>\n",
       "      <td>-0.7</td>\n",
       "      <td>...</td>\n",
       "      <td>-0.1</td>\n",
       "      <td>-0.0</td>\n",
       "      <td>0.2</td>\n",
       "      <td>-0.5</td>\n",
       "      <td>-0.3</td>\n",
       "      <td>-0.4</td>\n",
       "      <td>-0.5</td>\n",
       "      <td>-0.6</td>\n",
       "      <td>-0.2</td>\n",
       "      <td>-0.4</td>\n",
       "    </tr>\n",
       "    <tr>\n",
       "      <th>50%</th>\n",
       "      <td>0.0</td>\n",
       "      <td>0.5</td>\n",
       "      <td>-0.2</td>\n",
       "      <td>-0.2</td>\n",
       "      <td>-0.3</td>\n",
       "      <td>-0.3</td>\n",
       "      <td>-0.2</td>\n",
       "      <td>-0.3</td>\n",
       "      <td>-0.0</td>\n",
       "      <td>-0.5</td>\n",
       "      <td>...</td>\n",
       "      <td>-0.1</td>\n",
       "      <td>-0.0</td>\n",
       "      <td>0.2</td>\n",
       "      <td>-0.5</td>\n",
       "      <td>-0.3</td>\n",
       "      <td>-0.4</td>\n",
       "      <td>-0.5</td>\n",
       "      <td>-0.6</td>\n",
       "      <td>-0.2</td>\n",
       "      <td>-0.4</td>\n",
       "    </tr>\n",
       "    <tr>\n",
       "      <th>75%</th>\n",
       "      <td>0.9</td>\n",
       "      <td>0.5</td>\n",
       "      <td>0.2</td>\n",
       "      <td>0.2</td>\n",
       "      <td>0.4</td>\n",
       "      <td>0.4</td>\n",
       "      <td>0.4</td>\n",
       "      <td>0.7</td>\n",
       "      <td>-0.0</td>\n",
       "      <td>0.7</td>\n",
       "      <td>...</td>\n",
       "      <td>-0.1</td>\n",
       "      <td>-0.0</td>\n",
       "      <td>0.2</td>\n",
       "      <td>-0.5</td>\n",
       "      <td>-0.3</td>\n",
       "      <td>-0.4</td>\n",
       "      <td>-0.5</td>\n",
       "      <td>1.7</td>\n",
       "      <td>-0.2</td>\n",
       "      <td>-0.4</td>\n",
       "    </tr>\n",
       "    <tr>\n",
       "      <th>max</th>\n",
       "      <td>3.5</td>\n",
       "      <td>0.5</td>\n",
       "      <td>18.0</td>\n",
       "      <td>18.7</td>\n",
       "      <td>31.3</td>\n",
       "      <td>9.9</td>\n",
       "      <td>8.4</td>\n",
       "      <td>28.5</td>\n",
       "      <td>39.4</td>\n",
       "      <td>8.3</td>\n",
       "      <td>...</td>\n",
       "      <td>7.7</td>\n",
       "      <td>30.7</td>\n",
       "      <td>0.2</td>\n",
       "      <td>2.0</td>\n",
       "      <td>3.0</td>\n",
       "      <td>2.6</td>\n",
       "      <td>2.2</td>\n",
       "      <td>1.7</td>\n",
       "      <td>5.4</td>\n",
       "      <td>2.8</td>\n",
       "    </tr>\n",
       "  </tbody>\n",
       "</table>\n",
       "<p>8 rows × 387 columns</p>\n",
       "</div>"
      ],
      "text/plain": [
       "         rooms  mortgage     area  living_area  kitchen_area    floor  \\\n",
       "count  66925.0   66925.0  66925.0      66925.0       66925.0  66925.0   \n",
       "mean      -0.0      -0.0      0.0          0.0          -0.0     -0.0   \n",
       "std        1.0       1.0      1.0          1.0           1.0      1.0   \n",
       "min       -2.6      -2.1     -1.2         -1.0          -1.7     -1.2   \n",
       "25%       -0.8       0.5     -0.6         -0.6          -0.6     -0.8   \n",
       "50%        0.0       0.5     -0.2         -0.2          -0.3     -0.3   \n",
       "75%        0.9       0.5      0.2          0.2           0.4      0.4   \n",
       "max        3.5       0.5     18.0         18.7          31.3      9.9   \n",
       "\n",
       "        floors  ceiling_height  is_suspicious  property_age  ...  \\\n",
       "count  66925.0         66925.0        66925.0       66925.0  ...   \n",
       "mean      -0.0            -0.0           -0.0          -0.0  ...   \n",
       "std        1.0             1.0            1.0           1.0  ...   \n",
       "min       -1.5            -1.2           -0.0          -0.8  ...   \n",
       "25%       -0.7            -0.6           -0.0          -0.7  ...   \n",
       "50%       -0.2            -0.3           -0.0          -0.5  ...   \n",
       "75%        0.4             0.7           -0.0           0.7  ...   \n",
       "max        8.4            28.5           39.4           8.3  ...   \n",
       "\n",
       "       heating_индивидуальный тепловой пункт  \\\n",
       "count                                66925.0   \n",
       "mean                                     0.0   \n",
       "std                                      1.0   \n",
       "min                                     -0.1   \n",
       "25%                                     -0.1   \n",
       "50%                                     -0.1   \n",
       "75%                                     -0.1   \n",
       "max                                      7.7   \n",
       "\n",
       "       heating_котел/квартирное отопление  heating_центральное  \\\n",
       "count                             66925.0              66925.0   \n",
       "mean                                 -0.0                  0.0   \n",
       "std                                   1.0                  1.0   \n",
       "min                                  -0.0                 -6.0   \n",
       "25%                                  -0.0                  0.2   \n",
       "50%                                  -0.0                  0.2   \n",
       "75%                                  -0.0                  0.2   \n",
       "max                                  30.7                  0.2   \n",
       "\n",
       "       interior_design_без ремонта  interior_design_дизайнерский  \\\n",
       "count                      66925.0                       66925.0   \n",
       "mean                          -0.0                           0.0   \n",
       "std                            1.0                           1.0   \n",
       "min                           -0.5                          -0.3   \n",
       "25%                           -0.5                          -0.3   \n",
       "50%                           -0.5                          -0.3   \n",
       "75%                           -0.5                          -0.3   \n",
       "max                            2.0                           3.0   \n",
       "\n",
       "       interior_design_евроремонт  interior_design_косметический  \\\n",
       "count                     66925.0                        66925.0   \n",
       "mean                         -0.0                           -0.0   \n",
       "std                           1.0                            1.0   \n",
       "min                          -0.4                           -0.5   \n",
       "25%                          -0.4                           -0.5   \n",
       "50%                          -0.4                           -0.5   \n",
       "75%                          -0.4                           -0.5   \n",
       "max                           2.6                            2.2   \n",
       "\n",
       "       interior_design_пропущено  interior_design_черновой  \\\n",
       "count                    66925.0                   66925.0   \n",
       "mean                        -0.0                       0.0   \n",
       "std                          1.0                       1.0   \n",
       "min                         -0.6                      -0.2   \n",
       "25%                         -0.6                      -0.2   \n",
       "50%                         -0.6                      -0.2   \n",
       "75%                          1.7                      -0.2   \n",
       "max                          1.7                       5.4   \n",
       "\n",
       "       interior_design_чистовой  \n",
       "count                   66925.0  \n",
       "mean                       -0.0  \n",
       "std                         1.0  \n",
       "min                        -0.4  \n",
       "25%                        -0.4  \n",
       "50%                        -0.4  \n",
       "75%                        -0.4  \n",
       "max                         2.8  \n",
       "\n",
       "[8 rows x 387 columns]"
      ]
     },
     "execution_count": 18,
     "metadata": {},
     "output_type": "execute_result"
    }
   ],
   "source": [
    "# описательная статистика для стандартизированных тренировочных данных\n",
    "X_train_new.describe().round(1)"
   ]
  },
  {
   "cell_type": "code",
   "execution_count": 19,
   "metadata": {},
   "outputs": [],
   "source": [
    "# создание словаря pipelines для алгоритмов Elastic Net, Ridge Regression и Lasso Regression\n",
    "pipelines =  {\n",
    "            'lasso': make_pipeline(StandardScaler(), Lasso(random_state=123)),\n",
    "            'ridge': make_pipeline(StandardScaler(), Ridge(random_state=123)),\n",
    "            'enet': make_pipeline(StandardScaler(), ElasticNet(random_state=123))\n",
    "                }"
   ]
  },
  {
   "cell_type": "code",
   "execution_count": 20,
   "metadata": {},
   "outputs": [],
   "source": [
    "# добавление в словарь pipeline для RandomForestRegressor (rf) и GradientBoostingRegressor (gb)\n",
    "pipelines['rf'] = make_pipeline(StandardScaler(), RandomForestRegressor(random_state=123))\n",
    "pipelines['gb'] = make_pipeline(StandardScaler(),\n",
    "                                GradientBoostingRegressor(random_state=123 ))"
   ]
  },
  {
   "cell_type": "code",
   "execution_count": 21,
   "metadata": {},
   "outputs": [
    {
     "name": "stdout",
     "output_type": "stream",
     "text": [
      "lasso <class 'sklearn.pipeline.Pipeline'>\n",
      "ridge <class 'sklearn.pipeline.Pipeline'>\n",
      "enet <class 'sklearn.pipeline.Pipeline'>\n",
      "rf <class 'sklearn.pipeline.Pipeline'>\n",
      "gb <class 'sklearn.pipeline.Pipeline'>\n"
     ]
    }
   ],
   "source": [
    "# проверка наличия pipeline для каждого алгоритма\n",
    "for key, value in pipelines.items():\n",
    "    print( key, type(value) )"
   ]
  },
  {
   "cell_type": "markdown",
   "metadata": {},
   "source": [
    "3. Определение гиперпараметров"
   ]
  },
  {
   "cell_type": "code",
   "execution_count": 22,
   "metadata": {},
   "outputs": [
    {
     "data": {
      "text/plain": [
       "{'memory': None,\n",
       " 'steps': [('standardscaler', StandardScaler()),\n",
       "  ('lasso', Lasso(random_state=123))],\n",
       " 'verbose': False,\n",
       " 'standardscaler': StandardScaler(),\n",
       " 'lasso': Lasso(random_state=123),\n",
       " 'standardscaler__copy': True,\n",
       " 'standardscaler__with_mean': True,\n",
       " 'standardscaler__with_std': True,\n",
       " 'lasso__alpha': 1.0,\n",
       " 'lasso__copy_X': True,\n",
       " 'lasso__fit_intercept': True,\n",
       " 'lasso__max_iter': 1000,\n",
       " 'lasso__normalize': 'deprecated',\n",
       " 'lasso__positive': False,\n",
       " 'lasso__precompute': False,\n",
       " 'lasso__random_state': 123,\n",
       " 'lasso__selection': 'cyclic',\n",
       " 'lasso__tol': 0.0001,\n",
       " 'lasso__warm_start': False}"
      ]
     },
     "execution_count": 22,
     "metadata": {},
     "output_type": "execute_result"
    }
   ],
   "source": [
    "# список настраиваемых гиперпараметров для Lasso pipeline\n",
    "pipelines['lasso'].get_params()"
   ]
  },
  {
   "cell_type": "code",
   "execution_count": 23,
   "metadata": {},
   "outputs": [],
   "source": [
    "# гиперпараметры Lasso \n",
    "lasso_hyperparameters = {'lasso__alpha':[0.001, 0.005, 0.01, 0.05, 0.1, 0.5, 1, 5, 10] }\n",
    "\n",
    "# гиперпараметры Ridge \n",
    "ridge_hyperparameters = {'ridge__alpha': [0.001, 0.005, 0.01, 0.05, 0.1, 0.5, 1, 5, 10] }"
   ]
  },
  {
   "cell_type": "code",
   "execution_count": 24,
   "metadata": {},
   "outputs": [],
   "source": [
    "# гиперпараметры Elastic Net\n",
    "enet_hyperparameters = {\n",
    "    'elasticnet__alpha': [0.001, 0.005, 0.01, 0.05, 0.1, 0.5, 1, 5, 10],\n",
    "    'elasticnet__l1_ratio': [0.1, 0.3, 0.5, 0.7, 0.9]\n",
    "    }"
   ]
  },
  {
   "cell_type": "code",
   "execution_count": 25,
   "metadata": {},
   "outputs": [],
   "source": [
    "# гиперпараметры Random forest\n",
    "rf_hyperparameters  = {\n",
    "    'randomforestregressor__n_estimators': [100,200],\n",
    "    'randomforestregressor__max_features': ['log2', 'sqrt', 1.0, 0.33]\n",
    "}"
   ]
  },
  {
   "cell_type": "code",
   "execution_count": 26,
   "metadata": {},
   "outputs": [],
   "source": [
    "# гиперпараметры Boosted tree\n",
    "gb_hyperparameters = {\n",
    "            'gradientboostingregressor__n_estimators' : [100,200],\n",
    "            'gradientboostingregressor__learning_rate': [0.05, 0.1,0.2],\n",
    "            'gradientboostingregressor__max_depth': [1,3,5]\n",
    "}"
   ]
  },
  {
   "cell_type": "code",
   "execution_count": 27,
   "metadata": {},
   "outputs": [],
   "source": [
    "# словарь гиперпараметров для всех моделей\n",
    "hyperparameters = {\n",
    "    'rf': rf_hyperparameters,\n",
    "    'gb': gb_hyperparameters,\n",
    "    'lasso': lasso_hyperparameters,\n",
    "    'ridge': ridge_hyperparameters,\n",
    "    'enet': enet_hyperparameters\n",
    "}"
   ]
  },
  {
   "cell_type": "code",
   "execution_count": 28,
   "metadata": {},
   "outputs": [
    {
     "name": "stdout",
     "output_type": "stream",
     "text": [
      "enet есть в hyperparameters, и это словарь\n",
      "gb есть в hyperparameters, и это словарь\n",
      "ridge есть в hyperparameters, и это словарь\n",
      "rf есть в hyperparameters, и это словарь\n",
      "lasso есть в hyperparameters, и это словарь\n"
     ]
    }
   ],
   "source": [
    "# проверка\n",
    "for key in ['enet', 'gb', 'ridge', 'rf', 'lasso']:\n",
    "    if key in hyperparameters:\n",
    "        if type(hyperparameters[key]) is dict:\n",
    "            print( key, 'есть в hyperparameters, и это словарь' )\n",
    "        else:\n",
    "            print( key, 'есть в hyperparameters, но это не словарь' )\n",
    "    else:\n",
    "        print( key, 'нет в hyperparameters')"
   ]
  },
  {
   "cell_type": "markdown",
   "metadata": {},
   "source": [
    "4. Кроссвалидация и настройка гиперпараметров"
   ]
  },
  {
   "cell_type": "code",
   "execution_count": 33,
   "metadata": {},
   "outputs": [
    {
     "name": "stderr",
     "output_type": "stream",
     "text": [
      "c:\\Users\\T-1000\\AppData\\Local\\Programs\\Python\\Python38\\lib\\site-packages\\sklearn\\linear_model\\_coordinate_descent.py:648: ConvergenceWarning: Objective did not converge. You might want to increase the number of iterations, check the scale of the features or consider increasing regularisation. Duality gap: 8.316e+18, tolerance: 1.920e+16\n",
      "  model = cd_fast.enet_coordinate_descent(\n"
     ]
    },
    {
     "name": "stdout",
     "output_type": "stream",
     "text": [
      "модель lasso обучена\n",
      "модель ridge обучена\n"
     ]
    },
    {
     "name": "stderr",
     "output_type": "stream",
     "text": [
      "c:\\Users\\T-1000\\AppData\\Local\\Programs\\Python\\Python38\\lib\\site-packages\\sklearn\\linear_model\\_coordinate_descent.py:648: ConvergenceWarning: Objective did not converge. You might want to increase the number of iterations, check the scale of the features or consider increasing regularisation. Duality gap: 2.355e+19, tolerance: 1.920e+16\n",
      "  model = cd_fast.enet_coordinate_descent(\n"
     ]
    },
    {
     "name": "stdout",
     "output_type": "stream",
     "text": [
      "модель enet обучена\n",
      "модель rf обучена\n",
      "модель gb обучена\n"
     ]
    }
   ],
   "source": [
    "# создание словаря обученных моделей\n",
    "fitted_models = {}\n",
    "\n",
    "# проход по всем пайплайнам моделей, обучение каждой модели и сохранение обученной модели в словарь\n",
    "for name, pipeline in pipelines.items():\n",
    "    # создание модели - объекта кросс-валидации\n",
    "    model = GridSearchCV(pipeline, hyperparameters[name], cv = 10, n_jobs=-1)\n",
    "    \n",
    "    # обучение модели на X_train, y_train\n",
    "    model.fit(X_train, y_train)\n",
    "    \n",
    "    # сохранение обученной модели в fitted_models[name] \n",
    "    fitted_models[name] = model\n",
    "\n",
    "    print(f\"модель {name} обучена\")"
   ]
  },
  {
   "cell_type": "code",
   "execution_count": 34,
   "metadata": {},
   "outputs": [
    {
     "name": "stdout",
     "output_type": "stream",
     "text": [
      "lasso <class 'sklearn.model_selection._search.GridSearchCV'>\n",
      "ridge <class 'sklearn.model_selection._search.GridSearchCV'>\n",
      "enet <class 'sklearn.model_selection._search.GridSearchCV'>\n",
      "rf <class 'sklearn.model_selection._search.GridSearchCV'>\n",
      "gb <class 'sklearn.model_selection._search.GridSearchCV'>\n"
     ]
    }
   ],
   "source": [
    "# проверка на наличие всех 5 моделей\n",
    "for key, value in fitted_models.items():\n",
    "    print( key, type(value) )"
   ]
  },
  {
   "cell_type": "code",
   "execution_count": 35,
   "metadata": {},
   "outputs": [
    {
     "name": "stdout",
     "output_type": "stream",
     "text": [
      "lasso has been fitted.\n",
      "ridge has been fitted.\n",
      "enet has been fitted.\n",
      "rf has been fitted.\n",
      "gb has been fitted.\n"
     ]
    }
   ],
   "source": [
    "# проверка на NotFittedError\n",
    "for name, model in fitted_models.items():\n",
    "    try:\n",
    "        pred = model.predict(X_test)\n",
    "        print(name, 'has been fitted.')\n",
    "    except NotFittedError as er:\n",
    "        print(repr(er))"
   ]
  },
  {
   "cell_type": "markdown",
   "metadata": {},
   "source": [
    " 5. Оценка метрик качества модели и выбор модели-победителя"
   ]
  },
  {
   "cell_type": "code",
   "execution_count": 36,
   "metadata": {},
   "outputs": [],
   "source": [
    "from sklearn.metrics import r2_score, mean_absolute_error"
   ]
  },
  {
   "cell_type": "code",
   "execution_count": 37,
   "metadata": {},
   "outputs": [
    {
     "name": "stdout",
     "output_type": "stream",
     "text": [
      "lasso\n",
      "--------\n",
      "R^2: 0.7699619713828405\n",
      "MAE:  11079312.780976089\n",
      "\n",
      "\n",
      "ridge\n",
      "--------\n",
      "R^2: 0.7699956093345947\n",
      "MAE:  11074965.995678749\n",
      "\n",
      "\n",
      "enet\n",
      "--------\n",
      "R^2: 0.770157807308262\n",
      "MAE:  11051265.767094688\n",
      "\n",
      "\n",
      "rf\n",
      "--------\n",
      "R^2: 0.9004336164096878\n",
      "MAE:  4701742.784076227\n",
      "\n",
      "\n",
      "gb\n",
      "--------\n",
      "R^2: 0.8864904038765938\n",
      "MAE:  5712831.940614481\n",
      "\n",
      "\n"
     ]
    }
   ],
   "source": [
    "# r2_score и MAE для каждой модели\n",
    "for name, model in fitted_models.items():\n",
    "    print(name)\n",
    "    print('--------')\n",
    "    pred = model.predict(X_test)\n",
    "    print('R^2:', r2_score(y_test, pred))\n",
    "    print('MAE: ', mean_absolute_error(y_test, pred))\n",
    "    print('\\n')"
   ]
  },
  {
   "cell_type": "markdown",
   "metadata": {},
   "source": [
    "Наибольшее значение R^2 и наименьшее значение MAE имеет один и тот же алгоритм - Random Forest.\n",
    "Random Forest - наиболее эффективная модель для предсказание цен на квартиры в Москве среди пяти рассмотренных моделей."
   ]
  },
  {
   "cell_type": "code",
   "execution_count": 28,
   "metadata": {},
   "outputs": [
    {
     "data": {
      "image/png": "[encoded data removed]",
      "text/plain": [
       "<Figure size 432x288 with 1 Axes>"
      ]
     },
     "metadata": {
      "needs_background": "light"
     },
     "output_type": "display_data"
    }
   ],
   "source": [
    "# точечный график истинных и предсказанных значений\n",
    "rf_pred = fitted_models['rf'].predict(X_test)\n",
    "f, ax = plt.subplots(1)\n",
    "ax.scatter(rf_pred, y_test)\n",
    "ax.plot([0, 1], [0, 1], transform=ax.transAxes, color='r', ls='--')\n",
    "plt.xlabel('predicted')\n",
    "plt.ylabel('true')\n",
    "plt.axis('square')\n",
    "plt.show(f)"
   ]
  },
  {
   "cell_type": "markdown",
   "metadata": {},
   "source": [
    "Большинство точек на графике сконцентрировано около диагонали, исключение составляют точки-выбросы (квартиры с очень высокой стоимостью)."
   ]
  },
  {
   "cell_type": "code",
   "execution_count": 47,
   "metadata": {},
   "outputs": [
    {
     "data": {
      "text/plain": [
       "{'randomforestregressor__max_features': 1.0,\n",
       " 'randomforestregressor__n_estimators': 200}"
      ]
     },
     "execution_count": 47,
     "metadata": {},
     "output_type": "execute_result"
    }
   ],
   "source": [
    "# гиперпараметры лучшей модели\n",
    "fitted_models['rf'].best_params_"
   ]
  },
  {
   "cell_type": "code",
   "execution_count": 51,
   "metadata": {},
   "outputs": [],
   "source": [
    "# сохранение всех моделей\n",
    "with open('fitted_models/lasso_model.pkl', 'wb') as f:\n",
    "    pickle.dump(fitted_models['lasso'].best_estimator_, f)\n",
    "\n",
    "with open('fitted_models/ridge_model.pkl', 'wb') as f:\n",
    "    pickle.dump(fitted_models['ridge'].best_estimator_, f)\n",
    "\n",
    "with open('fitted_models/enet_model.pkl', 'wb') as f:\n",
    "    pickle.dump(fitted_models['enet'].best_estimator_, f)\n",
    "\n",
    "with open('fitted_models/rf_model.pkl', 'wb') as f:\n",
    "    pickle.dump(fitted_models['rf'].best_estimator_, f)\n",
    "\n",
    "with open('fitted_models/gb_model.pkl', 'wb') as f:\n",
    "    pickle.dump(fitted_models['gb'].best_estimator_, f)"
   ]
  },
  {
   "cell_type": "markdown",
   "metadata": {},
   "source": [
    "ИТОГ: Среди пяти рассмотренных моделей: Elastic Net, Ridge Regression, Lasso Regression, Random Forest и Gradient Boosted Trees - наилучшую эффективность пооказала модель Random Forest с числом решающих деревьев, равным 200, и с количеством признаков, учитываемых при поиске лучшего сплита, равном общему числу признаков (max_features=n_features)."
   ]
  }
 ],
 "metadata": {
  "kernelspec": {
   "display_name": "Python 3.8.8 64-bit",
   "language": "python",
   "name": "python3"
  },
  "language_info": {
   "codemirror_mode": {
    "name": "ipython",
    "version": 3
   },
   "file_extension": ".py",
   "mimetype": "text/x-python",
   "name": "python",
   "nbconvert_exporter": "python",
   "pygments_lexer": "ipython3",
   "version": "3.8.8"
  },
  "orig_nbformat": 4,
  "vscode": {
   "interpreter": {
    "hash": "b837d6f52d58c74fd82dbfa8ea93f8a02691730b5f625eb00e62e727cdc52078"
   }
  }
 },
 "nbformat": 4,
 "nbformat_minor": 2
}
