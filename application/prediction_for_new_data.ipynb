{
 "cells": [
  {
   "cell_type": "code",
   "execution_count": 45,
   "metadata": {},
   "outputs": [],
   "source": [
    "from enum import Enum\n",
    "from typing import Dict"
   ]
  },
  {
   "cell_type": "code",
   "execution_count": 119,
   "metadata": {},
   "outputs": [
    {
     "ename": "ModuleNotFoundError",
     "evalue": "No module named 'unidecode'",
     "output_type": "error",
     "traceback": [
      "\u001b[1;31m---------------------------------------------------------------------------\u001b[0m",
      "\u001b[1;31mModuleNotFoundError\u001b[0m                       Traceback (most recent call last)",
      "\u001b[1;32mC:\\Temp/ipykernel_7340/1306750514.py\u001b[0m in \u001b[0;36m<module>\u001b[1;34m\u001b[0m\n\u001b[0;32m      5\u001b[0m \u001b[1;32mfrom\u001b[0m \u001b[0mdatetime\u001b[0m \u001b[1;32mimport\u001b[0m \u001b[0mdate\u001b[0m\u001b[1;33m\u001b[0m\u001b[1;33m\u001b[0m\u001b[0m\n\u001b[0;32m      6\u001b[0m \u001b[1;32mimport\u001b[0m \u001b[0mlocale\u001b[0m\u001b[1;33m\u001b[0m\u001b[1;33m\u001b[0m\u001b[0m\n\u001b[1;32m----> 7\u001b[1;33m \u001b[1;32mimport\u001b[0m \u001b[0munidecode\u001b[0m\u001b[1;33m\u001b[0m\u001b[1;33m\u001b[0m\u001b[0m\n\u001b[0m",
      "\u001b[1;31mModuleNotFoundError\u001b[0m: No module named 'unidecode'"
     ]
    }
   ],
   "source": [
    "import sqlite3\n",
    "import pickle\n",
    "import numpy as np\n",
    "import pandas as pd\n",
    "from datetime import date\n",
    "import locale"
   ]
  },
  {
   "cell_type": "code",
   "execution_count": 114,
   "metadata": {},
   "outputs": [
    {
     "data": {
      "text/plain": [
       "'ru_RU.UTF-8'"
      ]
     },
     "execution_count": 114,
     "metadata": {},
     "output_type": "execute_result"
    }
   ],
   "source": [
    "locale.setlocale(locale.LC_ALL, 'ru_RU.UTF-8')"
   ]
  },
  {
   "cell_type": "code",
   "execution_count": 64,
   "metadata": {},
   "outputs": [],
   "source": [
    "conn = sqlite3.connect('db\\cian.db') \n",
    "          \n",
    "df = pd.read_sql_query ('''\n",
    "                               SELECT *\n",
    "                               FROM ad_data_cleaned_with_fixed_age\n",
    "                               ''', conn)"
   ]
  },
  {
   "cell_type": "code",
   "execution_count": 65,
   "metadata": {},
   "outputs": [],
   "source": [
    "df.drop('price', axis = 1, inplace=True)"
   ]
  },
  {
   "cell_type": "code",
   "execution_count": 50,
   "metadata": {},
   "outputs": [],
   "source": [
    "class Flat_type(Enum):\n",
    "    flat = 'квартира'\n",
    "    apartaments = 'апартаменты'\n",
    "\n",
    "class Rooms(Enum):\n",
    "    studio = 0 # квартира-студия\n",
    "    open_plan = -1 # свободная планировка\n",
    "    one = 1\n",
    "    two = 2\n",
    "    three = 3\n",
    "    four = 4\n",
    "    five = 5\n",
    "    six = 6\n",
    "\n",
    "class Sale_type(Enum):\n",
    "    free_sale = 'свободная продажа'\n",
    "    alterative_sale = 'альтернатива'\n",
    "    co_funding = 'долевое участие (214-фз)'\n",
    "\n",
    "class Mortgage(Enum):\n",
    "    mortgage_true = 1\n",
    "    mortgage_false = 0\n",
    "\n",
    "class Built_year(object):\n",
    "\n",
    "    def __init__(self) -> None:\n",
    "        self.__year = None\n",
    "\n",
    "    @property\n",
    "    def year(self):\n",
    "        return self.__year\n",
    "\n",
    "    @year.setter\n",
    "    def year(self, year: int):\n",
    "        if year < 1700:\n",
    "            self.__year = 1700\n",
    "        else:\n",
    "            self.__year = year\n",
    "    # 'пропущено'\n",
    "\n",
    "class District(Enum):\n",
    "    ZelAO= 'ЗелАО'\n",
    "    TAO = 'ТАО (Троицкий)'\n",
    "    SAO = 'САО'\n",
    "    YAO = 'ЮАО'\n",
    "    YVAO = 'ЮВАО'\n",
    "    ZAO = 'ЗАО'\n",
    "    SVAO = 'СВАО'\n",
    "    VAO = 'ИАО'\n",
    "    YZAO = 'ЮЗАО'\n",
    "    SZAO = 'СЗАО'\n",
    "    CAO = 'ЦАО'\n",
    "\n",
    "class Seller(Enum):\n",
    "    agency = 'агентство'\n",
    "    realtor = 'частный риелтор'\n",
    "    developer = 'застройщик'\n",
    "    consultant = 'консультант'\n",
    "    owner = 'собственник'\n",
    "    # 'пропущено'\n",
    "\n",
    "class Housing_type(Enum):\n",
    "    second_built = 'вторичное'\n",
    "    new_built = 'новостройка'\n",
    "    # 'пропущено'\n",
    "\n",
    "class Ceiling_height():\n",
    "    def __init__(self) -> None:\n",
    "        self.__heightr = None\n",
    "\n",
    "    @property\n",
    "    def height(self):\n",
    "        return self.__height\n",
    "\n",
    "    @height.setter\n",
    "    def height(self, height: int):\n",
    "        if 25 <= height <= 40:\n",
    "            self.__height = round(height/10, 2)\n",
    "        elif height < 2.4 or 12 < height < 25:\n",
    "            self.__height = None\n",
    "        elif height < 240 :\n",
    "            self.__height = round(height/100, 2)\n",
    "        else:\n",
    "            self.__height = height\n",
    "    # 'пропущено'\n",
    "\n",
    "class Bathroom(Enum):\n",
    "    combined_1_wc = '1 совмещенный'\n",
    "    separate_1_wc = '1 раздельный'\n",
    "    combined_1_separate_1_wc = '1 совмещенный, 1 раздельный'\n",
    "    combined_1_separate_2_wc = '1 совмещенный, 2 раздельных'\n",
    "    combined_1_separate_3_wc = '1 совмещенный, 3 раздельных'\n",
    "    combined_1_separate_4_wc = '1 совмещенный, 4 раздельных'\n",
    "    combined_2_wc = '2 совмещенных'\n",
    "    separate_2_wc = '2 раздельных'\n",
    "    combined_2_separate_1_wc = '2 совмещенных, 1 раздельный'\n",
    "    combined_2_separate_2_wc = '2 совмещенных, 2 раздельных'\n",
    "    combined_2_separate_3_wc = '2 совмещенных, 3 раздельных'\n",
    "    combined_2_separate_4_wc = '2 совмещенных, 4 раздельных'\n",
    "    combined_3_wc = '3 совмещенных'\n",
    "    separate_3_wc = '3 раздельных'\n",
    "    combined_3_separate_1_wc = '3 совмещенных, 1 раздельный'\n",
    "    combined_3_separate_2_wc = '3 совмещенных, 2 раздельных'\n",
    "    combined_3_separate_3_wc = '3 совмещенных, 3 раздельных'\n",
    "    combined_3_separate_4_wc = '3 совмещенных, 4 раздельных'\n",
    "    combined_4_wc = '4 совмещенных'\n",
    "    separate_4_wc = '4 раздельных'\n",
    "    combined_4_separate_1_wc = '4 совмещенных, 1 раздельный'\n",
    "    combined_4_separate_2_wc = '4 совмещенных, 2 раздельных'\n",
    "    combined_4_separate_3_wc = '4 совмещенных, 3 раздельных'\n",
    "    combined_4_separate_4_wc = '4 совмещенных, 4 раздельных'\n",
    "    # 'пропущено'\n",
    "\n",
    "class House_type(Enum):\n",
    "    brick = 'кирпичный'\n",
    "    block = 'блочный'\n",
    "    monolith_brick = 'монолитно-кирпичный'\n",
    "    panel = 'панельный'\n",
    "    monolith = 'монолитный'\n",
    "    panel_monolith = 'панельный, монолитный'\n",
    "    panel_brick = 'панельный, кирпичный'\n",
    "    # 'пропущено'\n",
    "\n",
    "class Parking(Enum):\n",
    "    spontaneous = 'стихийная'\n",
    "    above_ground = 'наземная'\n",
    "    underground = 'подземная'\n",
    "    guest = 'гостевая'\n",
    "    outdoor = 'открытая'\n",
    "    multilevel = 'многоуровневая'\n",
    "    roof ='на крыше'\n",
    "    separate_multilevel = 'отдельная многоуровневая'\n",
    "    underground_guest = 'подземная, гостевая'\n",
    "    underground_separate_multilevel = 'подземная, отдельная многоуровневая'\n",
    "    separate_multilevel_guest = 'отдельная многоуровневая, гостевая'\n",
    "    underground_separate_multilevel_guest = 'подземная, отдельная многоуровневая, гостевая'\n",
    "    # 'пропущено'\n",
    "\n",
    "class Heating(Enum):\n",
    "    centralized = 'центральное'\n",
    "    boiler = 'котел/квартирное отопление'\n",
    "    individual_heating_unit = 'индивидуальный тепловой пункт'\n",
    "    independent_boiling_room = 'автономная котельная'\n",
    "\n",
    "class Suspicious_flat(Enum):\n",
    "    suspicious = 1\n",
    "    not_suspicious = 0\n",
    "\n",
    "class Interior_design(Enum):\n",
    "    cosmitic = 'косметический'\n",
    "    without_repair = 'без ремонта'\n",
    "    european_quality = 'евроремонт'\n",
    "    fine_finish = 'чистовой'\n",
    "    designer = 'дизайнерский'\n",
    "    shell_and_core = 'черновой'\n",
    "    # 'пропущено'\n"
   ]
  },
  {
   "cell_type": "code",
   "execution_count": 53,
   "metadata": {},
   "outputs": [],
   "source": [
    "def generate_dict_for_df(\n",
    "    flat_type: Flat_type,\n",
    "    rooms: Rooms,\n",
    "    sale_type: Sale_type,\n",
    "    mortgage: Mortgage,\n",
    "    area: float,\n",
    "    living_area: float,\n",
    "    kitchen_area: float,\n",
    "    floor: int,\n",
    "    floors: int,\n",
    "    built_year: Built_year,\n",
    "    district: District,\n",
    "    ceiling_height: Ceiling_height,\n",
    "    heating: Heating = 'центральное',\n",
    "    parking: Parking = 'стихийная',\n",
    "    metro_station: str = 'пропущено', \n",
    "    seller: Seller = 'не указано',\n",
    "    housing_type: Housing_type  = 'пропущено',\n",
    "    bathroom: Bathroom  = 'пропущено',\n",
    "    house_type: House_type  = 'пропущено',\n",
    "    is_suspicious: Suspicious_flat = 0,\n",
    "    interior_design: Interior_design  = 'пропущено'\n",
    ") -> Dict:\n",
    "\n",
    "    \n",
    "    return {'flat_type': flat_type, 'rooms': rooms, 'sale_type': sale_type, 'mortgage': mortgage, 'area': area,\n",
    "       'living_area': living_area, 'kitchen_area': kitchen_area, 'floor': floor, 'floors': floors, 'property_age': date.today().year - int(built_year),\n",
    "       'district': district, 'metro_station': metro_station, 'seller': seller, 'housing_type': housing_type,\n",
    "       'ceiling_height': ceiling_height, 'bathroom': bathroom, 'house_type': house_type, 'parking': parking, 'heating': heating,\n",
    "       'is_suspicious': is_suspicious, 'interior_design': interior_design}"
   ]
  },
  {
   "cell_type": "code",
   "execution_count": 94,
   "metadata": {},
   "outputs": [
    {
     "data": {
      "text/plain": [
       "{'flat_type': 'квартира',\n",
       " 'rooms': 1,\n",
       " 'sale_type': 'свободная продажа',\n",
       " 'mortgage': 1,\n",
       " 'area': 39.0,\n",
       " 'living_area': 19.0,\n",
       " 'kitchen_area': 9.0,\n",
       " 'floor': 5,\n",
       " 'floors': 10,\n",
       " 'property_age': 19,\n",
       " 'district': 'ЗАО',\n",
       " 'metro_station': 'Фили',\n",
       " 'seller': 'собственник',\n",
       " 'housing_type': 'вторичное',\n",
       " 'ceiling_height': 2.64,\n",
       " 'bathroom': '1 раздельный',\n",
       " 'house_type': 'панельный',\n",
       " 'parking': 'стихийная',\n",
       " 'heating': 'центральное',\n",
       " 'is_suspicious': 0,\n",
       " 'interior_design': 'косметический'}"
      ]
     },
     "execution_count": 94,
     "metadata": {},
     "output_type": "execute_result"
    }
   ],
   "source": [
    "data_dict = generate_dict_for_df(flat_type='квартира', rooms=1, sale_type='свободная продажа', mortgage=1, area=39.0, kitchen_area=9.0, living_area=19.0,\n",
    " floor=5, floors=10, built_year=2004, district='ЗАО', metro_station='Фили',\n",
    " ceiling_height=2.64, seller='собственник', housing_type='вторичное', house_type='панельный', bathroom='1 раздельный', interior_design='косметический'\n",
    ")\n",
    "data_dict"
   ]
  },
  {
   "cell_type": "code",
   "execution_count": 95,
   "metadata": {},
   "outputs": [],
   "source": [
    "def generate_df_for_model(data_dict: Dict) -> pd.DataFrame:\n",
    "    return pd.DataFrame(data=data_dict, index=[0])"
   ]
  },
  {
   "cell_type": "code",
   "execution_count": 96,
   "metadata": {},
   "outputs": [],
   "source": [
    "new_data_df = generate_df_for_model(data_dict)"
   ]
  },
  {
   "cell_type": "code",
   "execution_count": 97,
   "metadata": {},
   "outputs": [],
   "source": [
    "df_with_new_ad = pd.concat([df, new_data_df], ignore_index=True)"
   ]
  },
  {
   "cell_type": "code",
   "execution_count": 98,
   "metadata": {},
   "outputs": [],
   "source": [
    "categorical_columns = df_with_new_ad.select_dtypes(include=['object']).columns"
   ]
  },
  {
   "cell_type": "code",
   "execution_count": 99,
   "metadata": {},
   "outputs": [],
   "source": [
    "df_with_new_ad_dummies = pd.get_dummies(df_with_new_ad, columns=categorical_columns)"
   ]
  },
  {
   "cell_type": "code",
   "execution_count": 100,
   "metadata": {},
   "outputs": [],
   "source": [
    "# Select last row of the dataframe as a dataframe object\n",
    "new_ad_last_row = df_with_new_ad_dummies.iloc[-1:]"
   ]
  },
  {
   "cell_type": "code",
   "execution_count": 101,
   "metadata": {},
   "outputs": [],
   "source": [
    "# загрузка/десериализация модели\n",
    "loaded_rf_model = pickle.load(open('fitted_models/rf_model.pkl', 'rb'))"
   ]
  },
  {
   "cell_type": "code",
   "execution_count": 112,
   "metadata": {},
   "outputs": [
    {
     "name": "stdout",
     "output_type": "stream",
     "text": [
      "[11526419.98]\n"
     ]
    }
   ],
   "source": [
    "# предсказание на новых данных\n",
    "result = loaded_rf_model.predict(new_ad_last_row)\n",
    "print(result)"
   ]
  },
  {
   "cell_type": "code",
   "execution_count": 132,
   "metadata": {},
   "outputs": [
    {
     "name": "stdout",
     "output_type": "stream",
     "text": [
      "Квартира с параметрами:\n",
      " {'flat_type': 'квартира', 'rooms': 1, 'sale_type': 'свободная продажа', 'mortgage': 1, 'area': 39.0, 'living_area': 19.0, 'kitchen_area': 9.0, 'floor': 5, 'floors': 10, 'property_age': 19, 'district': 'ЗАО', 'metro_station': 'Фили', 'seller': 'собственник', 'housing_type': 'вторичное', 'ceiling_height': 2.64, 'bathroom': '1 раздельный', 'house_type': 'панельный', 'parking': 'стихийная', 'heating': 'центральное', 'is_suspicious': 0, 'interior_design': 'косметический'} \n",
      "\n",
      "стоит\n",
      "\n",
      " 11 526 419,98 ₽\n"
     ]
    }
   ],
   "source": [
    "# отформатированный результат\n",
    "print(\"Квартира с параметрами:\\n\", data_dict, \"\\n\\nстоит\\n\\n\", locale.currency(result, grouping=True ).replace(u'\\xa0', ' '))"
   ]
  }
 ],
 "metadata": {
  "kernelspec": {
   "display_name": "Python 3.8.8 64-bit",
   "language": "python",
   "name": "python3"
  },
  "language_info": {
   "codemirror_mode": {
    "name": "ipython",
    "version": 3
   },
   "file_extension": ".py",
   "mimetype": "text/x-python",
   "name": "python",
   "nbconvert_exporter": "python",
   "pygments_lexer": "ipython3",
   "version": "3.8.8"
  },
  "orig_nbformat": 4,
  "vscode": {
   "interpreter": {
    "hash": "b837d6f52d58c74fd82dbfa8ea93f8a02691730b5f625eb00e62e727cdc52078"
   }
  }
 },
 "nbformat": 4,
 "nbformat_minor": 2
}
