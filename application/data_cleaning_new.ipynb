{
 "cells": [
  {
   "cell_type": "markdown",
   "metadata": {},
   "source": [
    "###  Data Cleaning / Очистка данных\n",
    "На этом этапе:\n",
    "1. Удаление дубликатов\n",
    "\n",
    "\n",
    "Drop unwanted observations\n",
    "Fix structural errors\n",
    "Remove unwanted outliers\n",
    "Label missing categorical data\n",
    "Flag and fill missing numerical data"
   ]
  },
  {
   "cell_type": "code",
   "execution_count": 2,
   "metadata": {},
   "outputs": [],
   "source": [
    "import sqlite3\n",
    "import pandas as pd\n",
    "import numpy as np\n",
    "from matplotlib import pyplot as plt\n",
    "# %matplotlib inline\n",
    "import seaborn as sns"
   ]
  },
  {
   "cell_type": "code",
   "execution_count": 3,
   "metadata": {},
   "outputs": [],
   "source": [
    "conn = sqlite3.connect('db\\cian_fake_2.db') \n",
    "          \n",
    "df = pd.read_sql_query ('''\n",
    "                               SELECT\n",
    "                               flat_type, rooms, price, price_per_meter, sale_type, mortgage, area,\n",
    "                       living_area, kitchen_area, floor, floors, built_year, address, district, metro_station, seller,\n",
    "                       housing_type, planning, ceiling_height, bathroom, balcony_loggia, repair, view,\n",
    "                       finished_shell_condition, house_type, house_class, building_number, parking, elevators,\n",
    "                       housing_line, floor_type, entrance_number, heating, unsafe_house, garbage_disposal, gas_supply,\n",
    "                       description_text\n",
    "                               FROM ad_data\n",
    "                               ''', conn)"
   ]
  },
  {
   "cell_type": "markdown",
   "metadata": {},
   "source": [
    "1. Удаление дубликатов"
   ]
  },
  {
   "cell_type": "code",
   "execution_count": 4,
   "metadata": {},
   "outputs": [
    {
     "name": "stdout",
     "output_type": "stream",
     "text": [
      "(10000, 37)\n"
     ]
    }
   ],
   "source": [
    "# удаление обычных дубликатов\n",
    "df = df.drop_duplicates()\n",
    "print(df.shape)"
   ]
  },
  {
   "cell_type": "code",
   "execution_count": 6,
   "metadata": {},
   "outputs": [
    {
     "name": "stdout",
     "output_type": "stream",
     "text": [
      "Empty DataFrame\n",
      "Columns: [flat_type, rooms, price, price_per_meter, sale_type, mortgage, area, living_area, kitchen_area, floor, floors, built_year, address, district, metro_station, seller, housing_type, planning, ceiling_height, bathroom, balcony_loggia, repair, view, finished_shell_condition, house_type, house_class, building_number, parking, elevators, housing_line, floor_type, entrance_number, heating, unsafe_house, garbage_disposal, gas_supply, description_text]\n",
      "Index: []\n",
      "\n",
      "[0 rows x 37 columns]\n",
      "(10000, 37)\n"
     ]
    }
   ],
   "source": [
    "# помимо обычных дубликатов также больше одного объявления могут относится к одной квартире\n",
    "# у такаих дубликатов адрес, этаж, тип, количество комнат, площадь кухни должны совпадать\n",
    "print(df[df.duplicated(subset = ['address', 'flat_type', 'floor', 'floors', 'kitchen_area'])])\n",
    "df = df.drop_duplicates(subset = ['address', 'flat_type', 'floor', 'floors', 'kitchen_area'])\n",
    "print(df.shape)"
   ]
  },
  {
   "cell_type": "code",
   "execution_count": 7,
   "metadata": {},
   "outputs": [],
   "source": [
    "# TODO сейчас среди всех дубликатов остается первый. Но изначально цена и другая информация разные. Цену можно усреднить, а что делать с категориальными данными?"
   ]
  },
  {
   "cell_type": "markdown",
   "metadata": {},
   "source": [
    "2 Fix structural errors"
   ]
  },
  {
   "cell_type": "code",
   "execution_count": 11,
   "metadata": {},
   "outputs": [
    {
     "data": {
      "text/plain": [
       "array(['нет', 'предчистовая', None, 'чистовая', 'черновая'], dtype=object)"
      ]
     },
     "execution_count": 11,
     "metadata": {},
     "output_type": "execute_result"
    }
   ],
   "source": [
    "# отбражение уникальных значений столбца \"отделка\"\n",
    "df['finished_shell_condition'].unique()"
   ]
  },
  {
   "cell_type": "code",
   "execution_count": 12,
   "metadata": {},
   "outputs": [],
   "source": [
    "# замена None-значений на 0\n",
    "df['finished_shell_condition'] = df['finished_shell_condition'].fillna(0)"
   ]
  },
  {
   "cell_type": "code",
   "execution_count": 14,
   "metadata": {},
   "outputs": [
    {
     "data": {
      "text/plain": [
       "array(['нет', 'предчистовая', 0, 'чистовая', 'черновая'], dtype=object)"
      ]
     },
     "execution_count": 14,
     "metadata": {},
     "output_type": "execute_result"
    }
   ],
   "source": [
    "# проверка замены\n",
    "df['finished_shell_condition'].unique()"
   ]
  },
  {
   "cell_type": "code",
   "execution_count": 18,
   "metadata": {},
   "outputs": [
    {
     "data": {
      "text/plain": [
       "<AxesSubplot:xlabel='count', ylabel='finished_shell_condition'>"
      ]
     },
     "execution_count": 18,
     "metadata": {},
     "output_type": "execute_result"
    },
    {
     "data": {
      "image/png": "[encoded data removed]",
      "text/plain": [
       "<Figure size 432x288 with 1 Axes>"
      ]
     },
     "metadata": {
      "needs_background": "light"
     },
     "output_type": "display_data"
    }
   ],
   "source": [
    "# построение гистограммы для вывления опечаток и неодинаковых регистров\n",
    "sns.countplot(y='finished_shell_condition', data=df)"
   ]
  },
  {
   "cell_type": "code",
   "execution_count": null,
   "metadata": {},
   "outputs": [],
   "source": [
    "# TODO если есть опечатки, исправить по типу df.roof.replace('composition', 'Composition', inplace=True)"
   ]
  },
  {
   "cell_type": "markdown",
   "metadata": {},
   "source": [
    "3 Обработка выбросов"
   ]
  },
  {
   "cell_type": "code",
   "execution_count": null,
   "metadata": {},
   "outputs": [],
   "source": []
  }
 ],
 "metadata": {
  "kernelspec": {
   "display_name": "Python 3.10.6 64-bit",
   "language": "python",
   "name": "python3"
  },
  "language_info": {
   "codemirror_mode": {
    "name": "ipython",
    "version": 3
   },
   "file_extension": ".py",
   "mimetype": "text/x-python",
   "name": "python",
   "nbconvert_exporter": "python",
   "pygments_lexer": "ipython3",
   "version": "3.10.6"
  },
  "orig_nbformat": 4,
  "vscode": {
   "interpreter": {
    "hash": "26de051ba29f2982a8de78e945f0abaf191376122a1563185a90213a26c5da77"
   }
  }
 },
 "nbformat": 4,
 "nbformat_minor": 2
}
