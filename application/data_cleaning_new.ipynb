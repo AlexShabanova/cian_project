{
 "cells": [
  {
   "cell_type": "markdown",
   "metadata": {},
   "source": [
    "###  Data Cleaning / Очистка данных\n",
    "На этом этапе:\n",
    "1. \n",
    "\n",
    "\n",
    "Drop unwanted observations\n",
    "Fix structural errors\n",
    "Remove unwanted outliers\n",
    "Label missing categorical data\n",
    "Flag and fill missing numerical data"
   ]
  },
  {
   "cell_type": "code",
   "execution_count": 1,
   "metadata": {},
   "outputs": [],
   "source": [
    "import sqlite3\n",
    "import pandas as pd\n",
    "import numpy as np\n",
    "from matplotlib import pyplot as plt\n",
    "# %matplotlib inline\n",
    "import seaborn as sns"
   ]
  },
  {
   "cell_type": "code",
   "execution_count": 1,
   "metadata": {},
   "outputs": [
    {
     "name": "stderr",
     "output_type": "stream",
     "text": [
      "\n",
      "KeyboardInterrupt\n",
      "\n"
     ]
    }
   ],
   "source": [
    "conn = sqlite3.connect('db\\cian_362_150.db') \n",
    "          \n",
    "df = pd.read_sql_query ('''\n",
    "                               SELECT\n",
    "                               flat_type, rooms, price, sale_type, mortgage, area,\n",
    "                       living_area, kitchen_area, floor, floors, built_year, address, district, metro_station, seller,\n",
    "                       housing_type, planning, ceiling_height, bathroom, balcony_loggia, repair, view,\n",
    "                       finished_shell_condition, house_type, house_class, building_number, parking, elevators,\n",
    "                       housing_line, floor_type, entrance_number, heating, unsafe_house, garbage_disposal, gas_supply,\n",
    "                       description_text\n",
    "                               FROM ad_data\n",
    "                               ''', conn)"
   ]
  },
  {
   "cell_type": "markdown",
   "metadata": {},
   "source": [
    "1. Удаление дубликатов"
   ]
  },
  {
   "cell_type": "code",
   "execution_count": 3,
   "metadata": {},
   "outputs": [
    {
     "name": "stdout",
     "output_type": "stream",
     "text": [
      "(10000, 37)\n"
     ]
    }
   ],
   "source": [
    "df = df.drop_duplicates()\n",
    "print(df.shape)"
   ]
  }
 ],
 "metadata": {
  "kernelspec": {
   "display_name": "Python 3.8.8 64-bit",
   "language": "python",
   "name": "python3"
  },
  "language_info": {
   "codemirror_mode": {
    "name": "ipython",
    "version": 3
   },
   "file_extension": ".py",
   "mimetype": "text/x-python",
   "name": "python",
   "nbconvert_exporter": "python",
   "pygments_lexer": "ipython3",
   "version": "3.8.8"
  },
  "orig_nbformat": 4,
  "vscode": {
   "interpreter": {
    "hash": "b837d6f52d58c74fd82dbfa8ea93f8a02691730b5f625eb00e62e727cdc52078"
   }
  }
 },
 "nbformat": 4,
 "nbformat_minor": 2
}
