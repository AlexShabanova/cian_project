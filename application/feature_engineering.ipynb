{
 "cells": [
  {
   "cell_type": "markdown",
   "metadata": {},
   "source": [
    "### Feature Engineering / Инжиниринг признаков\n",
    "На этом этапе:\n",
    "1. \n",
    "2. \n",
    "3. \n",
    "4. \n",
    "5. "
   ]
  },
  {
   "cell_type": "code",
   "execution_count": 2,
   "metadata": {},
   "outputs": [],
   "source": [
    "import sqlite3\n",
    "import numpy as np\n",
    "import pandas as pd\n",
    "from matplotlib import pyplot as plt\n",
    "# %matplotlib inline\n",
    "import seaborn as sns\n",
    "from datetime import date"
   ]
  },
  {
   "cell_type": "code",
   "execution_count": 5,
   "metadata": {},
   "outputs": [],
   "source": [
    "conn = sqlite3.connect('db\\cian_fake_2.db') \n",
    "          \n",
    "df = pd.read_sql_query ('''\n",
    "                               SELECT\n",
    "                               flat_type, rooms, price, price_per_meter, sale_type, mortgage, area,\n",
    "                       living_area, kitchen_area, floor, floors, built_year, address, district, metro_station, seller,\n",
    "                       housing_type, planning, ceiling_height, bathroom, balcony_loggia, repair, view,\n",
    "                       finished_shell_condition, house_type, house_class, building_number, parking, elevators,\n",
    "                       housing_line, floor_type, entrance_number, heating, unsafe_house, garbage_disposal, gas_supply,\n",
    "                       description_text\n",
    "                               FROM ad_data_cleaned\n",
    "                               ''', conn)"
   ]
  },
  {
   "cell_type": "code",
   "execution_count": 6,
   "metadata": {},
   "outputs": [],
   "source": [
    "# создание новой переменной \"возраст дома\"\n",
    "df['house_age'] = date.today().year - df.built_year"
   ]
  },
  {
   "cell_type": "code",
   "execution_count": 9,
   "metadata": {},
   "outputs": [
    {
     "data": {
      "text/plain": [
       "0"
      ]
     },
     "execution_count": 9,
     "metadata": {},
     "output_type": "execute_result"
    }
   ],
   "source": [
    "# количество квартир, которые еще не построены\n",
    "sum(df.house_age<0)"
   ]
  },
  {
   "cell_type": "code",
   "execution_count": null,
   "metadata": {},
   "outputs": [],
   "source": [
    "# TODO проверить, нужно ли объединять некоторые классы категоральных переменных (например, парковка или санузел, где много классов)"
   ]
  },
  {
   "cell_type": "markdown",
   "metadata": {},
   "source": [
    "Кодирование категориальных переменных"
   ]
  },
  {
   "cell_type": "code",
   "execution_count": 10,
   "metadata": {},
   "outputs": [],
   "source": [
    "# One-Hot encoding\n",
    "df = pd.get_dummies(df, columns=['flat_type', 'sale_type'])"
   ]
  },
  {
   "cell_type": "code",
   "execution_count": 13,
   "metadata": {},
   "outputs": [
    {
     "data": {
      "text/html": [
       "<div>\n",
       "<style scoped>\n",
       "    .dataframe tbody tr th:only-of-type {\n",
       "        vertical-align: middle;\n",
       "    }\n",
       "\n",
       "    .dataframe tbody tr th {\n",
       "        vertical-align: top;\n",
       "    }\n",
       "\n",
       "    .dataframe thead th {\n",
       "        text-align: right;\n",
       "    }\n",
       "</style>\n",
       "<table border=\"1\" class=\"dataframe\">\n",
       "  <thead>\n",
       "    <tr style=\"text-align: right;\">\n",
       "      <th></th>\n",
       "      <th>rooms</th>\n",
       "      <th>price</th>\n",
       "      <th>price_per_meter</th>\n",
       "      <th>mortgage</th>\n",
       "      <th>area</th>\n",
       "      <th>living_area</th>\n",
       "      <th>kitchen_area</th>\n",
       "      <th>floor</th>\n",
       "      <th>floors</th>\n",
       "      <th>address</th>\n",
       "      <th>...</th>\n",
       "      <th>unsafe_house</th>\n",
       "      <th>garbage_disposal</th>\n",
       "      <th>gas_supply</th>\n",
       "      <th>description_text</th>\n",
       "      <th>house_age</th>\n",
       "      <th>flat_type_апартаменты</th>\n",
       "      <th>flat_type_квартира</th>\n",
       "      <th>sale_type_альтернатива</th>\n",
       "      <th>sale_type_долевое участие (214-фз)</th>\n",
       "      <th>sale_type_свободная продажа</th>\n",
       "    </tr>\n",
       "  </thead>\n",
       "  <tbody>\n",
       "    <tr>\n",
       "      <th>0</th>\n",
       "      <td>5</td>\n",
       "      <td>93802430</td>\n",
       "      <td>1874174</td>\n",
       "      <td>1</td>\n",
       "      <td>50.05</td>\n",
       "      <td>23.98</td>\n",
       "      <td>37.82</td>\n",
       "      <td>11</td>\n",
       "      <td>11</td>\n",
       "      <td>fake address '0'</td>\n",
       "      <td>...</td>\n",
       "      <td>да</td>\n",
       "      <td>нет</td>\n",
       "      <td>нет</td>\n",
       "      <td>description text '0'</td>\n",
       "      <td>75</td>\n",
       "      <td>1</td>\n",
       "      <td>0</td>\n",
       "      <td>0</td>\n",
       "      <td>0</td>\n",
       "      <td>1</td>\n",
       "    </tr>\n",
       "    <tr>\n",
       "      <th>1</th>\n",
       "      <td>5</td>\n",
       "      <td>11455370</td>\n",
       "      <td>129206</td>\n",
       "      <td>0</td>\n",
       "      <td>88.66</td>\n",
       "      <td>80.55</td>\n",
       "      <td>26.91</td>\n",
       "      <td>34</td>\n",
       "      <td>38</td>\n",
       "      <td>fake address '1'</td>\n",
       "      <td>...</td>\n",
       "      <td>да</td>\n",
       "      <td>пропущено</td>\n",
       "      <td>пропущено</td>\n",
       "      <td>description text '1'</td>\n",
       "      <td>171</td>\n",
       "      <td>1</td>\n",
       "      <td>0</td>\n",
       "      <td>0</td>\n",
       "      <td>0</td>\n",
       "      <td>1</td>\n",
       "    </tr>\n",
       "    <tr>\n",
       "      <th>2</th>\n",
       "      <td>0</td>\n",
       "      <td>50054984</td>\n",
       "      <td>3792044</td>\n",
       "      <td>0</td>\n",
       "      <td>13.20</td>\n",
       "      <td>5.39</td>\n",
       "      <td>6.44</td>\n",
       "      <td>1</td>\n",
       "      <td>4</td>\n",
       "      <td>fake address '2'</td>\n",
       "      <td>...</td>\n",
       "      <td>нет</td>\n",
       "      <td>нет</td>\n",
       "      <td>да</td>\n",
       "      <td>description text '2'</td>\n",
       "      <td>144</td>\n",
       "      <td>0</td>\n",
       "      <td>1</td>\n",
       "      <td>1</td>\n",
       "      <td>0</td>\n",
       "      <td>0</td>\n",
       "    </tr>\n",
       "    <tr>\n",
       "      <th>3</th>\n",
       "      <td>1</td>\n",
       "      <td>53094819</td>\n",
       "      <td>789045</td>\n",
       "      <td>1</td>\n",
       "      <td>67.29</td>\n",
       "      <td>12.50</td>\n",
       "      <td>59.76</td>\n",
       "      <td>25</td>\n",
       "      <td>48</td>\n",
       "      <td>fake address '3'</td>\n",
       "      <td>...</td>\n",
       "      <td>пропущено</td>\n",
       "      <td>да</td>\n",
       "      <td>да</td>\n",
       "      <td>description text '3'</td>\n",
       "      <td>98</td>\n",
       "      <td>0</td>\n",
       "      <td>1</td>\n",
       "      <td>0</td>\n",
       "      <td>1</td>\n",
       "      <td>0</td>\n",
       "    </tr>\n",
       "    <tr>\n",
       "      <th>4</th>\n",
       "      <td>4</td>\n",
       "      <td>28843249</td>\n",
       "      <td>624313</td>\n",
       "      <td>0</td>\n",
       "      <td>46.20</td>\n",
       "      <td>44.29</td>\n",
       "      <td>8.38</td>\n",
       "      <td>11</td>\n",
       "      <td>12</td>\n",
       "      <td>fake address '4'</td>\n",
       "      <td>...</td>\n",
       "      <td>нет</td>\n",
       "      <td>да</td>\n",
       "      <td>да</td>\n",
       "      <td>description text '4'</td>\n",
       "      <td>11</td>\n",
       "      <td>1</td>\n",
       "      <td>0</td>\n",
       "      <td>1</td>\n",
       "      <td>0</td>\n",
       "      <td>0</td>\n",
       "    </tr>\n",
       "  </tbody>\n",
       "</table>\n",
       "<p>5 rows × 40 columns</p>\n",
       "</div>"
      ],
      "text/plain": [
       "   rooms     price  price_per_meter  mortgage   area  living_area  \\\n",
       "0      5  93802430          1874174         1  50.05        23.98   \n",
       "1      5  11455370           129206         0  88.66        80.55   \n",
       "2      0  50054984          3792044         0  13.20         5.39   \n",
       "3      1  53094819           789045         1  67.29        12.50   \n",
       "4      4  28843249           624313         0  46.20        44.29   \n",
       "\n",
       "   kitchen_area  floor  floors           address  ... unsafe_house  \\\n",
       "0         37.82     11      11  fake address '0'  ...           да   \n",
       "1         26.91     34      38  fake address '1'  ...           да   \n",
       "2          6.44      1       4  fake address '2'  ...          нет   \n",
       "3         59.76     25      48  fake address '3'  ...    пропущено   \n",
       "4          8.38     11      12  fake address '4'  ...          нет   \n",
       "\n",
       "  garbage_disposal gas_supply      description_text house_age  \\\n",
       "0              нет        нет  description text '0'        75   \n",
       "1        пропущено  пропущено  description text '1'       171   \n",
       "2              нет         да  description text '2'       144   \n",
       "3               да         да  description text '3'        98   \n",
       "4               да         да  description text '4'        11   \n",
       "\n",
       "   flat_type_апартаменты flat_type_квартира sale_type_альтернатива  \\\n",
       "0                      1                  0                      0   \n",
       "1                      1                  0                      0   \n",
       "2                      0                  1                      1   \n",
       "3                      0                  1                      0   \n",
       "4                      1                  0                      1   \n",
       "\n",
       "  sale_type_долевое участие (214-фз) sale_type_свободная продажа  \n",
       "0                                  0                           1  \n",
       "1                                  0                           1  \n",
       "2                                  0                           0  \n",
       "3                                  1                           0  \n",
       "4                                  0                           0  \n",
       "\n",
       "[5 rows x 40 columns]"
      ]
     },
     "execution_count": 13,
     "metadata": {},
     "output_type": "execute_result"
    }
   ],
   "source": [
    "df.head()"
   ]
  },
  {
   "cell_type": "code",
   "execution_count": null,
   "metadata": {},
   "outputs": [],
   "source": [
    "# TODO быстрое кодирование для всех категориальных переменных (сейчас только для двух, так как есть перемнные с 10000 значений)"
   ]
  },
  {
   "cell_type": "code",
   "execution_count": 12,
   "metadata": {},
   "outputs": [],
   "source": [
    "# удаление неиспользуемых столбов (год постройки, так как теперь есть возраст здания)\n",
    "df.drop(['built_year'], axis=1, inplace=True)"
   ]
  }
 ],
 "metadata": {
  "kernelspec": {
   "display_name": "Python 3.10.6 64-bit",
   "language": "python",
   "name": "python3"
  },
  "language_info": {
   "codemirror_mode": {
    "name": "ipython",
    "version": 3
   },
   "file_extension": ".py",
   "mimetype": "text/x-python",
   "name": "python",
   "nbconvert_exporter": "python",
   "pygments_lexer": "ipython3",
   "version": "3.10.6"
  },
  "orig_nbformat": 4,
  "vscode": {
   "interpreter": {
    "hash": "26de051ba29f2982a8de78e945f0abaf191376122a1563185a90213a26c5da77"
   }
  }
 },
 "nbformat": 4,
 "nbformat_minor": 2
}
