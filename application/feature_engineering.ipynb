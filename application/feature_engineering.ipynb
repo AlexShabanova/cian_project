{
 "cells": [
  {
   "cell_type": "markdown",
   "metadata": {},
   "source": [
    "### Feature Engineering / Инжиниринг признаков\n",
    "На этом этапе:\n",
    "1. \n",
    "2. \n",
    "3. \n",
    "4. \n",
    "5. "
   ]
  },
  {
   "cell_type": "code",
   "execution_count": 1,
   "metadata": {},
   "outputs": [],
   "source": [
    "from datetime import date\n",
    "import sqlite3\n",
    "import numpy as np\n",
    "import pandas as pd\n",
    "from matplotlib import pyplot as plt\n",
    "import seaborn as sns\n",
    "from datetime import date"
   ]
  },
  {
   "cell_type": "code",
   "execution_count": 9,
   "metadata": {},
   "outputs": [],
   "source": [
    "conn = sqlite3.connect('db\\cian.db') \n",
    "          \n",
    "df = pd.read_sql_query ('''\n",
    "                               SELECT *\n",
    "                               FROM ad_data_cleaned\n",
    "                               ''', conn)"
   ]
  },
  {
   "cell_type": "code",
   "execution_count": 11,
   "metadata": {},
   "outputs": [],
   "source": [
    "df.drop(columns=['address'], inplace=True)"
   ]
  },
  {
   "cell_type": "code",
   "execution_count": 4,
   "metadata": {},
   "outputs": [],
   "source": [
    "# создание переменной 'property_age'\n",
    "df['property_age'] = date.today().year - df.built_year.astype(int)"
   ]
  },
  {
   "cell_type": "code",
   "execution_count": 5,
   "metadata": {},
   "outputs": [
    {
     "data": {
      "text/plain": [
       "0    10\n",
       "1     2\n",
       "2    56\n",
       "3     4\n",
       "4    13\n",
       "Name: property_age, dtype: int32"
      ]
     },
     "execution_count": 5,
     "metadata": {},
     "output_type": "execute_result"
    }
   ],
   "source": [
    "df['property_age'].head(5)"
   ]
  },
  {
   "cell_type": "code",
   "execution_count": 6,
   "metadata": {},
   "outputs": [
    {
     "data": {
      "text/plain": [
       "13376"
      ]
     },
     "execution_count": 6,
     "metadata": {},
     "output_type": "execute_result"
    }
   ],
   "source": [
    "# количество наблюдений с 'property_age' < 0 (квартир в недостроенных домах)\n",
    "sum(df.property_age < 0)"
   ]
  },
  {
   "cell_type": "code",
   "execution_count": 7,
   "metadata": {},
   "outputs": [],
   "source": [
    "# удаление признака 'year_built'\n",
    "df.drop(columns='built_year', inplace=True)"
   ]
  },
  {
   "cell_type": "code",
   "execution_count": 8,
   "metadata": {},
   "outputs": [
    {
     "data": {
      "text/plain": [
       "83657"
      ]
     },
     "execution_count": 8,
     "metadata": {},
     "output_type": "execute_result"
    }
   ],
   "source": [
    "# сохранение таблицы\n",
    "df.to_sql('ad_data_cleaned_with_fixed_age', conn, if_exists='replace', index = False)"
   ]
  },
  {
   "cell_type": "markdown",
   "metadata": {},
   "source": [
    "Кодирование категориальных переменных"
   ]
  },
  {
   "cell_type": "code",
   "execution_count": 15,
   "metadata": {},
   "outputs": [
    {
     "data": {
      "text/plain": [
       "['flat_type',\n",
       " 'sale_type',\n",
       " 'district',\n",
       " 'metro_station',\n",
       " 'seller',\n",
       " 'housing_type',\n",
       " 'bathroom',\n",
       " 'house_type',\n",
       " 'parking',\n",
       " 'heating',\n",
       " 'interior_design']"
      ]
     },
     "execution_count": 15,
     "metadata": {},
     "output_type": "execute_result"
    }
   ],
   "source": [
    "categorical_columns = df.select_dtypes(include=['object']).columns.tolist()\n",
    "categorical_columns"
   ]
  },
  {
   "cell_type": "code",
   "execution_count": 16,
   "metadata": {},
   "outputs": [],
   "source": [
    "# One-Hot encoding\n",
    "df = pd.get_dummies(df, columns=categorical_columns)"
   ]
  },
  {
   "cell_type": "code",
   "execution_count": 17,
   "metadata": {},
   "outputs": [
    {
     "data": {
      "text/html": [
       "<div>\n",
       "<style scoped>\n",
       "    .dataframe tbody tr th:only-of-type {\n",
       "        vertical-align: middle;\n",
       "    }\n",
       "\n",
       "    .dataframe tbody tr th {\n",
       "        vertical-align: top;\n",
       "    }\n",
       "\n",
       "    .dataframe thead th {\n",
       "        text-align: right;\n",
       "    }\n",
       "</style>\n",
       "<table border=\"1\" class=\"dataframe\">\n",
       "  <thead>\n",
       "    <tr style=\"text-align: right;\">\n",
       "      <th></th>\n",
       "      <th>rooms</th>\n",
       "      <th>price</th>\n",
       "      <th>mortgage</th>\n",
       "      <th>area</th>\n",
       "      <th>living_area</th>\n",
       "      <th>kitchen_area</th>\n",
       "      <th>floor</th>\n",
       "      <th>floors</th>\n",
       "      <th>ceiling_height</th>\n",
       "      <th>is_suspicious</th>\n",
       "      <th>...</th>\n",
       "      <th>heating_индивидуальный тепловой пункт</th>\n",
       "      <th>heating_котел/квартирное отопление</th>\n",
       "      <th>heating_центральное</th>\n",
       "      <th>interior_design_без ремонта</th>\n",
       "      <th>interior_design_дизайнерский</th>\n",
       "      <th>interior_design_евроремонт</th>\n",
       "      <th>interior_design_косметический</th>\n",
       "      <th>interior_design_пропущено</th>\n",
       "      <th>interior_design_черновой</th>\n",
       "      <th>interior_design_чистовой</th>\n",
       "    </tr>\n",
       "  </thead>\n",
       "  <tbody>\n",
       "    <tr>\n",
       "      <th>0</th>\n",
       "      <td>0</td>\n",
       "      <td>2850000</td>\n",
       "      <td>0</td>\n",
       "      <td>14.5</td>\n",
       "      <td>12.000000</td>\n",
       "      <td>8.269208</td>\n",
       "      <td>2</td>\n",
       "      <td>4</td>\n",
       "      <td>2.80</td>\n",
       "      <td>0</td>\n",
       "      <td>...</td>\n",
       "      <td>0</td>\n",
       "      <td>0</td>\n",
       "      <td>1</td>\n",
       "      <td>0</td>\n",
       "      <td>0</td>\n",
       "      <td>0</td>\n",
       "      <td>1</td>\n",
       "      <td>0</td>\n",
       "      <td>0</td>\n",
       "      <td>0</td>\n",
       "    </tr>\n",
       "    <tr>\n",
       "      <th>1</th>\n",
       "      <td>1</td>\n",
       "      <td>4700000</td>\n",
       "      <td>1</td>\n",
       "      <td>29.0</td>\n",
       "      <td>11.000000</td>\n",
       "      <td>9.000000</td>\n",
       "      <td>2</td>\n",
       "      <td>4</td>\n",
       "      <td>2.48</td>\n",
       "      <td>0</td>\n",
       "      <td>...</td>\n",
       "      <td>0</td>\n",
       "      <td>0</td>\n",
       "      <td>1</td>\n",
       "      <td>1</td>\n",
       "      <td>0</td>\n",
       "      <td>0</td>\n",
       "      <td>0</td>\n",
       "      <td>0</td>\n",
       "      <td>0</td>\n",
       "      <td>0</td>\n",
       "    </tr>\n",
       "    <tr>\n",
       "      <th>2</th>\n",
       "      <td>1</td>\n",
       "      <td>4400000</td>\n",
       "      <td>1</td>\n",
       "      <td>38.0</td>\n",
       "      <td>19.587972</td>\n",
       "      <td>10.034268</td>\n",
       "      <td>3</td>\n",
       "      <td>14</td>\n",
       "      <td>2.64</td>\n",
       "      <td>0</td>\n",
       "      <td>...</td>\n",
       "      <td>0</td>\n",
       "      <td>0</td>\n",
       "      <td>1</td>\n",
       "      <td>0</td>\n",
       "      <td>0</td>\n",
       "      <td>0</td>\n",
       "      <td>1</td>\n",
       "      <td>0</td>\n",
       "      <td>0</td>\n",
       "      <td>0</td>\n",
       "    </tr>\n",
       "    <tr>\n",
       "      <th>3</th>\n",
       "      <td>0</td>\n",
       "      <td>4890000</td>\n",
       "      <td>1</td>\n",
       "      <td>29.0</td>\n",
       "      <td>15.300000</td>\n",
       "      <td>9.375490</td>\n",
       "      <td>1</td>\n",
       "      <td>12</td>\n",
       "      <td>2.54</td>\n",
       "      <td>0</td>\n",
       "      <td>...</td>\n",
       "      <td>0</td>\n",
       "      <td>0</td>\n",
       "      <td>1</td>\n",
       "      <td>1</td>\n",
       "      <td>0</td>\n",
       "      <td>0</td>\n",
       "      <td>0</td>\n",
       "      <td>0</td>\n",
       "      <td>0</td>\n",
       "      <td>0</td>\n",
       "    </tr>\n",
       "    <tr>\n",
       "      <th>4</th>\n",
       "      <td>0</td>\n",
       "      <td>4700000</td>\n",
       "      <td>0</td>\n",
       "      <td>42.0</td>\n",
       "      <td>30.000000</td>\n",
       "      <td>6.000000</td>\n",
       "      <td>2</td>\n",
       "      <td>2</td>\n",
       "      <td>3.90</td>\n",
       "      <td>0</td>\n",
       "      <td>...</td>\n",
       "      <td>0</td>\n",
       "      <td>0</td>\n",
       "      <td>1</td>\n",
       "      <td>0</td>\n",
       "      <td>0</td>\n",
       "      <td>0</td>\n",
       "      <td>1</td>\n",
       "      <td>0</td>\n",
       "      <td>0</td>\n",
       "      <td>0</td>\n",
       "    </tr>\n",
       "  </tbody>\n",
       "</table>\n",
       "<p>5 rows × 388 columns</p>\n",
       "</div>"
      ],
      "text/plain": [
       "   rooms    price  mortgage  area  living_area  kitchen_area  floor  floors  \\\n",
       "0      0  2850000         0  14.5    12.000000      8.269208      2       4   \n",
       "1      1  4700000         1  29.0    11.000000      9.000000      2       4   \n",
       "2      1  4400000         1  38.0    19.587972     10.034268      3      14   \n",
       "3      0  4890000         1  29.0    15.300000      9.375490      1      12   \n",
       "4      0  4700000         0  42.0    30.000000      6.000000      2       2   \n",
       "\n",
       "   ceiling_height  is_suspicious  ...  heating_индивидуальный тепловой пункт  \\\n",
       "0            2.80              0  ...                                      0   \n",
       "1            2.48              0  ...                                      0   \n",
       "2            2.64              0  ...                                      0   \n",
       "3            2.54              0  ...                                      0   \n",
       "4            3.90              0  ...                                      0   \n",
       "\n",
       "   heating_котел/квартирное отопление  heating_центральное  \\\n",
       "0                                   0                    1   \n",
       "1                                   0                    1   \n",
       "2                                   0                    1   \n",
       "3                                   0                    1   \n",
       "4                                   0                    1   \n",
       "\n",
       "   interior_design_без ремонта  interior_design_дизайнерский  \\\n",
       "0                            0                             0   \n",
       "1                            1                             0   \n",
       "2                            0                             0   \n",
       "3                            1                             0   \n",
       "4                            0                             0   \n",
       "\n",
       "   interior_design_евроремонт  interior_design_косметический  \\\n",
       "0                           0                              1   \n",
       "1                           0                              0   \n",
       "2                           0                              1   \n",
       "3                           0                              0   \n",
       "4                           0                              1   \n",
       "\n",
       "   interior_design_пропущено  interior_design_черновой  \\\n",
       "0                          0                         0   \n",
       "1                          0                         0   \n",
       "2                          0                         0   \n",
       "3                          0                         0   \n",
       "4                          0                         0   \n",
       "\n",
       "   interior_design_чистовой  \n",
       "0                         0  \n",
       "1                         0  \n",
       "2                         0  \n",
       "3                         0  \n",
       "4                         0  \n",
       "\n",
       "[5 rows x 388 columns]"
      ]
     },
     "execution_count": 17,
     "metadata": {},
     "output_type": "execute_result"
    }
   ],
   "source": [
    "df.head(5)"
   ]
  },
  {
   "cell_type": "code",
   "execution_count": 18,
   "metadata": {},
   "outputs": [
    {
     "data": {
      "text/plain": [
       "83657"
      ]
     },
     "execution_count": 18,
     "metadata": {},
     "output_type": "execute_result"
    }
   ],
   "source": [
    "# сохранение таблицы\n",
    "df.to_sql('analytical_base_table', conn, if_exists='replace', index = False)"
   ]
  }
 ],
 "metadata": {
  "kernelspec": {
   "display_name": "Python 3.8.8 64-bit",
   "language": "python",
   "name": "python3"
  },
  "language_info": {
   "codemirror_mode": {
    "name": "ipython",
    "version": 3
   },
   "file_extension": ".py",
   "mimetype": "text/x-python",
   "name": "python",
   "nbconvert_exporter": "python",
   "pygments_lexer": "ipython3",
   "version": "3.8.8"
  },
  "orig_nbformat": 4,
  "vscode": {
   "interpreter": {
    "hash": "b837d6f52d58c74fd82dbfa8ea93f8a02691730b5f625eb00e62e727cdc52078"
   }
  }
 },
 "nbformat": 4,
 "nbformat_minor": 2
}
