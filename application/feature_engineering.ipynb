{
 "cells": [
  {
   "cell_type": "markdown",
   "metadata": {},
   "source": [
    "### Feature Engineering / Инжиниринг признаков\n",
    "На этом этапе:\n",
    "1. \n",
    "2. \n",
    "3. \n",
    "4. \n",
    "5. "
   ]
  },
  {
   "cell_type": "code",
   "execution_count": 1,
   "metadata": {},
   "outputs": [],
   "source": [
    "import sqlite3\n",
    "import numpy as np\n",
    "import pandas as pd\n",
    "from matplotlib import pyplot as plt\n",
    "# %matplotlib inline\n",
    "import seaborn as sns\n",
    "from datetime import date"
   ]
  },
  {
   "cell_type": "code",
   "execution_count": 3,
   "metadata": {},
   "outputs": [],
   "source": [
    "conn = sqlite3.connect('db\\cian_362_150.db') \n",
    "          \n",
    "df = pd.read_sql_query ('''\n",
    "                               SELECT\n",
    "                               flat_type, rooms, price, sale_type, mortgage, area,\n",
    "                       living_area, kitchen_area, floor, floors, built_year, address, district, metro_station, seller,\n",
    "                       housing_type, planning, ceiling_height, bathroom, balcony_loggia, repair, view,\n",
    "                       finished_shell_condition, house_type, house_class, building_number, parking, elevators,\n",
    "                       housing_line, floor_type, entrance_number, heating, unsafe_house, garbage_disposal, gas_supply,\n",
    "                       description_text\n",
    "                               FROM ad_data\n",
    "                               ''', conn)"
   ]
  },
  {
   "cell_type": "code",
   "execution_count": 4,
   "metadata": {},
   "outputs": [],
   "source": [
    "# создание новой переменной \"возраст дома\"\n",
    "df['house_age'] = date.today().year - df.built_year"
   ]
  },
  {
   "cell_type": "code",
   "execution_count": 5,
   "metadata": {},
   "outputs": [
    {
     "data": {
      "text/plain": [
       "43"
      ]
     },
     "execution_count": 5,
     "metadata": {},
     "output_type": "execute_result"
    }
   ],
   "source": [
    "# количество квартир, которые еще не построены\n",
    "sum(df.house_age<0)"
   ]
  },
  {
   "cell_type": "code",
   "execution_count": null,
   "metadata": {},
   "outputs": [],
   "source": [
    "# TODO проверить, нужно ли объединять некоторые классы категоральных переменных (например, парковка или санузел, где много классов)"
   ]
  },
  {
   "cell_type": "markdown",
   "metadata": {},
   "source": [
    "Кодирование категориальных переменных"
   ]
  },
  {
   "cell_type": "code",
   "execution_count": 6,
   "metadata": {},
   "outputs": [],
   "source": [
    "# One-Hot encoding\n",
    "df = pd.get_dummies(df, columns=['flat_type', 'sale_type'])"
   ]
  },
  {
   "cell_type": "code",
   "execution_count": 7,
   "metadata": {},
   "outputs": [
    {
     "data": {
      "text/html": [
       "<div>\n",
       "<style scoped>\n",
       "    .dataframe tbody tr th:only-of-type {\n",
       "        vertical-align: middle;\n",
       "    }\n",
       "\n",
       "    .dataframe tbody tr th {\n",
       "        vertical-align: top;\n",
       "    }\n",
       "\n",
       "    .dataframe thead th {\n",
       "        text-align: right;\n",
       "    }\n",
       "</style>\n",
       "<table border=\"1\" class=\"dataframe\">\n",
       "  <thead>\n",
       "    <tr style=\"text-align: right;\">\n",
       "      <th></th>\n",
       "      <th>rooms</th>\n",
       "      <th>price</th>\n",
       "      <th>mortgage</th>\n",
       "      <th>area</th>\n",
       "      <th>living_area</th>\n",
       "      <th>kitchen_area</th>\n",
       "      <th>floor</th>\n",
       "      <th>floors</th>\n",
       "      <th>built_year</th>\n",
       "      <th>address</th>\n",
       "      <th>...</th>\n",
       "      <th>unsafe_house</th>\n",
       "      <th>garbage_disposal</th>\n",
       "      <th>gas_supply</th>\n",
       "      <th>description_text</th>\n",
       "      <th>house_age</th>\n",
       "      <th>flat_type_апартаменты</th>\n",
       "      <th>flat_type_квартира</th>\n",
       "      <th>sale_type_альтернатива</th>\n",
       "      <th>sale_type_долевое участие (214-фз)</th>\n",
       "      <th>sale_type_свободная продажа</th>\n",
       "    </tr>\n",
       "  </thead>\n",
       "  <tbody>\n",
       "    <tr>\n",
       "      <th>0</th>\n",
       "      <td>4</td>\n",
       "      <td>52116797</td>\n",
       "      <td>0</td>\n",
       "      <td>118.14</td>\n",
       "      <td>NaN</td>\n",
       "      <td>NaN</td>\n",
       "      <td>4</td>\n",
       "      <td>18</td>\n",
       "      <td>NaN</td>\n",
       "      <td>Москва,СЗАО,р-н Щукино,ул. Маршала Рыбалко,2к4</td>\n",
       "      <td>...</td>\n",
       "      <td>None</td>\n",
       "      <td>None</td>\n",
       "      <td>None</td>\n",
       "      <td>Продаётся 4-комнатная квартира в сданном доме ...</td>\n",
       "      <td>NaN</td>\n",
       "      <td>0</td>\n",
       "      <td>1</td>\n",
       "      <td>0</td>\n",
       "      <td>0</td>\n",
       "      <td>1</td>\n",
       "    </tr>\n",
       "    <tr>\n",
       "      <th>1</th>\n",
       "      <td>2</td>\n",
       "      <td>67794300</td>\n",
       "      <td>1</td>\n",
       "      <td>132.93</td>\n",
       "      <td>35.6</td>\n",
       "      <td>4.4</td>\n",
       "      <td>4</td>\n",
       "      <td>19</td>\n",
       "      <td>2022.0</td>\n",
       "      <td>Москва,ЦАО,р-н Красносельский,просп. Академика...</td>\n",
       "      <td>...</td>\n",
       "      <td>None</td>\n",
       "      <td>None</td>\n",
       "      <td>None</td>\n",
       "      <td>Продаются 2-комн. апартаменты площадью 132,93 ...</td>\n",
       "      <td>0.0</td>\n",
       "      <td>1</td>\n",
       "      <td>0</td>\n",
       "      <td>0</td>\n",
       "      <td>1</td>\n",
       "      <td>0</td>\n",
       "    </tr>\n",
       "    <tr>\n",
       "      <th>2</th>\n",
       "      <td>4</td>\n",
       "      <td>72500000</td>\n",
       "      <td>0</td>\n",
       "      <td>149.00</td>\n",
       "      <td>NaN</td>\n",
       "      <td>NaN</td>\n",
       "      <td>3</td>\n",
       "      <td>18</td>\n",
       "      <td>2010.0</td>\n",
       "      <td>Москва,ЗАО,р-н Раменки,Ломоносовский просп.,25к1</td>\n",
       "      <td>...</td>\n",
       "      <td>нет</td>\n",
       "      <td>None</td>\n",
       "      <td>None</td>\n",
       "      <td>ЛОТ 24840 Д ОФИС ПРОДАЖ ЖК ДОМИНИОН. ПРЕДЛОЖЕН...</td>\n",
       "      <td>12.0</td>\n",
       "      <td>0</td>\n",
       "      <td>1</td>\n",
       "      <td>0</td>\n",
       "      <td>0</td>\n",
       "      <td>1</td>\n",
       "    </tr>\n",
       "    <tr>\n",
       "      <th>3</th>\n",
       "      <td>4</td>\n",
       "      <td>110000000</td>\n",
       "      <td>0</td>\n",
       "      <td>185.00</td>\n",
       "      <td>150.0</td>\n",
       "      <td>20.0</td>\n",
       "      <td>9</td>\n",
       "      <td>16</td>\n",
       "      <td>2013.0</td>\n",
       "      <td>Москва,ЗАО,р-н Раменки,Ломоносовский просп.,25к5</td>\n",
       "      <td>...</td>\n",
       "      <td>нет</td>\n",
       "      <td>None</td>\n",
       "      <td>None</td>\n",
       "      <td>ЛОТ 28408 Д ОФИС ПРОДАЖ ЖК ДОМИНИОН. ПРЕДЛОЖЕН...</td>\n",
       "      <td>9.0</td>\n",
       "      <td>0</td>\n",
       "      <td>1</td>\n",
       "      <td>0</td>\n",
       "      <td>0</td>\n",
       "      <td>1</td>\n",
       "    </tr>\n",
       "    <tr>\n",
       "      <th>4</th>\n",
       "      <td>4</td>\n",
       "      <td>32403725</td>\n",
       "      <td>0</td>\n",
       "      <td>98.40</td>\n",
       "      <td>48.7</td>\n",
       "      <td>35.4</td>\n",
       "      <td>22</td>\n",
       "      <td>25</td>\n",
       "      <td>2022.0</td>\n",
       "      <td>Москва,СЗАО,р-н Покровское-Стрешнево,Волоколам...</td>\n",
       "      <td>...</td>\n",
       "      <td>None</td>\n",
       "      <td>None</td>\n",
       "      <td>None</td>\n",
       "      <td>На живописной стрелке Москвы-реки и Сходни про...</td>\n",
       "      <td>0.0</td>\n",
       "      <td>1</td>\n",
       "      <td>0</td>\n",
       "      <td>0</td>\n",
       "      <td>1</td>\n",
       "      <td>0</td>\n",
       "    </tr>\n",
       "  </tbody>\n",
       "</table>\n",
       "<p>5 rows × 40 columns</p>\n",
       "</div>"
      ],
      "text/plain": [
       "   rooms      price  mortgage    area  living_area  kitchen_area  floor  \\\n",
       "0      4   52116797         0  118.14          NaN           NaN      4   \n",
       "1      2   67794300         1  132.93         35.6           4.4      4   \n",
       "2      4   72500000         0  149.00          NaN           NaN      3   \n",
       "3      4  110000000         0  185.00        150.0          20.0      9   \n",
       "4      4   32403725         0   98.40         48.7          35.4     22   \n",
       "\n",
       "   floors  built_year                                            address  ...  \\\n",
       "0      18         NaN     Москва,СЗАО,р-н Щукино,ул. Маршала Рыбалко,2к4  ...   \n",
       "1      19      2022.0  Москва,ЦАО,р-н Красносельский,просп. Академика...  ...   \n",
       "2      18      2010.0   Москва,ЗАО,р-н Раменки,Ломоносовский просп.,25к1  ...   \n",
       "3      16      2013.0   Москва,ЗАО,р-н Раменки,Ломоносовский просп.,25к5  ...   \n",
       "4      25      2022.0  Москва,СЗАО,р-н Покровское-Стрешнево,Волоколам...  ...   \n",
       "\n",
       "  unsafe_house garbage_disposal gas_supply  \\\n",
       "0         None             None       None   \n",
       "1         None             None       None   \n",
       "2          нет             None       None   \n",
       "3          нет             None       None   \n",
       "4         None             None       None   \n",
       "\n",
       "                                    description_text house_age  \\\n",
       "0  Продаётся 4-комнатная квартира в сданном доме ...       NaN   \n",
       "1  Продаются 2-комн. апартаменты площадью 132,93 ...       0.0   \n",
       "2  ЛОТ 24840 Д ОФИС ПРОДАЖ ЖК ДОМИНИОН. ПРЕДЛОЖЕН...      12.0   \n",
       "3  ЛОТ 28408 Д ОФИС ПРОДАЖ ЖК ДОМИНИОН. ПРЕДЛОЖЕН...       9.0   \n",
       "4  На живописной стрелке Москвы-реки и Сходни про...       0.0   \n",
       "\n",
       "   flat_type_апартаменты flat_type_квартира sale_type_альтернатива  \\\n",
       "0                      0                  1                      0   \n",
       "1                      1                  0                      0   \n",
       "2                      0                  1                      0   \n",
       "3                      0                  1                      0   \n",
       "4                      1                  0                      0   \n",
       "\n",
       "  sale_type_долевое участие (214-фз) sale_type_свободная продажа  \n",
       "0                                  0                           1  \n",
       "1                                  1                           0  \n",
       "2                                  0                           1  \n",
       "3                                  0                           1  \n",
       "4                                  1                           0  \n",
       "\n",
       "[5 rows x 40 columns]"
      ]
     },
     "execution_count": 7,
     "metadata": {},
     "output_type": "execute_result"
    }
   ],
   "source": [
    "df.head()"
   ]
  },
  {
   "cell_type": "code",
   "execution_count": null,
   "metadata": {},
   "outputs": [],
   "source": [
    "# TODO быстрое кодирование для всех категориальных переменных (сейчас только для двух, так как есть перемнные с 10000 значений)"
   ]
  },
  {
   "cell_type": "code",
   "execution_count": 12,
   "metadata": {},
   "outputs": [],
   "source": [
    "# удаление неиспользуемых столбов (год постройки, так как теперь есть возраст здания)\n",
    "df.drop(['built_year'], axis=1, inplace=True)"
   ]
  }
 ],
 "metadata": {
  "kernelspec": {
   "display_name": "Python 3.8.8 64-bit",
   "language": "python",
   "name": "python3"
  },
  "language_info": {
   "codemirror_mode": {
    "name": "ipython",
    "version": 3
   },
   "file_extension": ".py",
   "mimetype": "text/x-python",
   "name": "python",
   "nbconvert_exporter": "python",
   "pygments_lexer": "ipython3",
   "version": "3.8.8"
  },
  "orig_nbformat": 4,
  "vscode": {
   "interpreter": {
    "hash": "b837d6f52d58c74fd82dbfa8ea93f8a02691730b5f625eb00e62e727cdc52078"
   }
  }
 },
 "nbformat": 4,
 "nbformat_minor": 2
}
