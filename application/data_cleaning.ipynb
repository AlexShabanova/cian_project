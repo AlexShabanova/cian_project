{
 "cells": [
  {
   "cell_type": "markdown",
   "metadata": {},
   "source": [
    "###  Data Cleaning / Очистка данных\n",
    "На этом этапе:\n",
    "1. Удаление разреженных признаков\n",
    "2. Удаление объявлений с ошибками\n",
    "3. Иправление ошибок в объявлениях\n",
    "4. Объедениение признаков\n",
    "5. Обработка пропущенных категориальных данных\n",
    "6. Обработка пропущенных числовых данных\n",
    "7. Обработка выбросов"
   ]
  },
  {
   "cell_type": "code",
   "execution_count": 1,
   "metadata": {},
   "outputs": [],
   "source": [
    "from random import uniform\n",
    "import sqlite3\n",
    "import pandas as pd\n",
    "import numpy as np\n",
    "from matplotlib import pyplot as plt\n",
    "import seaborn as sns\n",
    "from sklearn.linear_model import LinearRegression\n",
    "from sklearn.impute import SimpleImputer"
   ]
  },
  {
   "cell_type": "code",
   "execution_count": 22,
   "metadata": {},
   "outputs": [],
   "source": [
    "conn = sqlite3.connect('db\\cian.db') \n"
   ]
  },
  {
   "cell_type": "code",
   "execution_count": 23,
   "metadata": {},
   "outputs": [],
   "source": [
    "df = pd.read_sql_query ('''\n",
    "                               SELECT *\n",
    "                               FROM ad_data\n",
    "                               ''', conn)"
   ]
  },
  {
   "cell_type": "code",
   "execution_count": 24,
   "metadata": {},
   "outputs": [],
   "source": [
    "df.drop(columns=['link', 'description_text'], inplace=True)"
   ]
  },
  {
   "cell_type": "code",
   "execution_count": 25,
   "metadata": {},
   "outputs": [
    {
     "data": {
      "text/plain": [
       "(89184, 36)"
      ]
     },
     "execution_count": 25,
     "metadata": {},
     "output_type": "execute_result"
    }
   ],
   "source": [
    "df.shape"
   ]
  },
  {
   "cell_type": "markdown",
   "metadata": {},
   "source": [
    "1. Удаление разреженных признаков"
   ]
  },
  {
   "cell_type": "code",
   "execution_count": 26,
   "metadata": {},
   "outputs": [
    {
     "name": "stdout",
     "output_type": "stream",
     "text": [
      "(89184, 24)\n"
     ]
    }
   ],
   "source": [
    "# удаление признаков с большим количеством пропущенных значений\n",
    "df.drop(columns=['unsafe_house', 'garbage_disposal', 'elevators', 'housing_line', 'building_number', \\\n",
    "     'gas_supply', 'planning', 'view', 'house_class', 'floor_type', 'entrance_number', 'balcony_loggia'], inplace=True)\n",
    "print(df.shape)"
   ]
  },
  {
   "cell_type": "markdown",
   "metadata": {},
   "source": [
    "2. Удаление объявлений с ошибками"
   ]
  },
  {
   "cell_type": "code",
   "execution_count": 27,
   "metadata": {},
   "outputs": [],
   "source": [
    "# удаление обявлений с пропущенными значениями area\n",
    "df.dropna(subset=['area'], inplace=True)"
   ]
  },
  {
   "cell_type": "code",
   "execution_count": 28,
   "metadata": {},
   "outputs": [
    {
     "name": "stdout",
     "output_type": "stream",
     "text": [
      "Новый минимум цены: 1300000\n"
     ]
    }
   ],
   "source": [
    "# удаление объявления с неправдопобной ценой 9 650\n",
    "df.drop(df[df.price == 9650].index, inplace=True)\n",
    "print(f\"Новый минимум цены: {df['price'].min()}\")"
   ]
  },
  {
   "cell_type": "code",
   "execution_count": 29,
   "metadata": {},
   "outputs": [
    {
     "data": {
      "text/plain": [
       "count         89181\n",
       "mean       32346938\n",
       "std        59597536\n",
       "min         1300000\n",
       "25%        11699279\n",
       "50%        17077678\n",
       "75%        30600000\n",
       "max      7350000000\n",
       "Name: price, dtype: object"
      ]
     },
     "execution_count": 29,
     "metadata": {},
     "output_type": "execute_result"
    }
   ],
   "source": [
    "# описательные статистики признака price\n",
    "df['price'].describe().apply(lambda x: '%.0f' % x)"
   ]
  },
  {
   "cell_type": "code",
   "execution_count": 30,
   "metadata": {},
   "outputs": [],
   "source": [
    "# удалить объявления квартир, которые расположены не в Москве\n",
    "districts_to_drop = ['Домодедово', 'Люберцы', 'Раменский городской округ', 'Видное', 'Балашиха', 'Реутов', 'Ленинский городской округ', 'Краснодар', 'Подольск', 'Щелково']\n",
    "df = df[df.district.isin(districts_to_drop) == False]"
   ]
  },
  {
   "cell_type": "markdown",
   "metadata": {},
   "source": [
    "3. Исправление ошибок в объявлениях"
   ]
  },
  {
   "cell_type": "code",
   "execution_count": 31,
   "metadata": {},
   "outputs": [
    {
     "data": {
      "text/plain": [
       "67047    1016\n",
       "83843    1017\n",
       "66756    1600\n",
       "44455    1700\n",
       "33289    1700\n",
       "86545    1782\n",
       "Name: built_year, dtype: int32"
      ]
     },
     "execution_count": 31,
     "metadata": {},
     "output_type": "execute_result"
    }
   ],
   "source": [
    "# наименьшие года постройки\n",
    "df.built_year.sort_values().head(6).astype(int)"
   ]
  },
  {
   "cell_type": "code",
   "execution_count": 32,
   "metadata": {},
   "outputs": [
    {
     "name": "stdout",
     "output_type": "stream",
     "text": [
      "Новый минимум года постройки: 1782\n"
     ]
    }
   ],
   "source": [
    "# исправление объявлений с неправдоподобным годом постройки \n",
    "df.loc[df.built_year == 1016, 'built_year'] = 2014\n",
    "df.loc[df.built_year == 1017, 'built_year'] = 1917\n",
    "df.loc[df.built_year == 1600, 'built_year'] = 1971\n",
    "df.loc[(df.built_year == 1700) & (df.price == 11750000), 'built_year'] = 2022\n",
    "df.loc[(df.built_year == 1700) & (df.price == 29900000), 'built_year'] = 2021\n",
    "print(f\"Новый минимум года постройки: {df['built_year'].min().astype(int)}\")"
   ]
  },
  {
   "cell_type": "code",
   "execution_count": 33,
   "metadata": {},
   "outputs": [
    {
     "data": {
      "image/png": "[encoded data removed]",
      "text/plain": [
       "<Figure size 432x288 with 1 Axes>"
      ]
     },
     "metadata": {
      "needs_background": "light"
     },
     "output_type": "display_data"
    }
   ],
   "source": [
    "# гистограмма признака built_year\n",
    "ax = df['built_year'].hist()\n",
    "for container in ax.containers:\n",
    "        ax.bar_label(container)\n",
    "plt.show()"
   ]
  },
  {
   "cell_type": "code",
   "execution_count": 34,
   "metadata": {},
   "outputs": [],
   "source": [
    "# замена в столбце parking null и \"-\" на \"стихийная\"\n",
    "df['parking'] = df['parking'].fillna('стихийная')\n",
    "df.parking.replace('-', 'стихийная', inplace=True)"
   ]
  },
  {
   "cell_type": "code",
   "execution_count": 35,
   "metadata": {},
   "outputs": [
    {
     "data": {
      "image/png": "[encoded data removed]",
      "text/plain": [
       "<Figure size 432x288 with 1 Axes>"
      ]
     },
     "metadata": {
      "needs_background": "light"
     },
     "output_type": "display_data"
    }
   ],
   "source": [
    "# распределение признака parking\n",
    "ax = sns.countplot(y='parking', data=df)\n",
    "for container in ax.containers:\n",
    "        ax.bar_label(container)"
   ]
  },
  {
   "cell_type": "code",
   "execution_count": 36,
   "metadata": {},
   "outputs": [
    {
     "data": {
      "text/plain": [
       "array([None, 'центральное', 'котел/квартирное отопление',\n",
       "       'индивидуальный тепловой пункт', 'автономная котельная', 'нет',\n",
       "       'печь'], dtype=object)"
      ]
     },
     "execution_count": 36,
     "metadata": {},
     "output_type": "execute_result"
    }
   ],
   "source": [
    "# уникальные значения heating\n",
    "df['heating'].unique()"
   ]
  },
  {
   "cell_type": "code",
   "execution_count": 37,
   "metadata": {},
   "outputs": [],
   "source": [
    "# замена в столбце heating null и \"нет\" на \"центральное\"\n",
    "df['heating'] = df['heating'].fillna('центральное')\n",
    "df.heating.replace(['нет', 'печь'], 'центральное', inplace=True)"
   ]
  },
  {
   "cell_type": "code",
   "execution_count": 38,
   "metadata": {},
   "outputs": [
    {
     "data": {
      "text/plain": [
       "array(['центральное', 'котел/квартирное отопление',\n",
       "       'индивидуальный тепловой пункт', 'автономная котельная'],\n",
       "      dtype=object)"
      ]
     },
     "execution_count": 38,
     "metadata": {},
     "output_type": "execute_result"
    }
   ],
   "source": [
    "# уникальные значения heating\n",
    "df['heating'].unique()"
   ]
  },
  {
   "cell_type": "code",
   "execution_count": 39,
   "metadata": {},
   "outputs": [
    {
     "data": {
      "image/png": "[encoded data removed]",
      "text/plain": [
       "<Figure size 432x288 with 1 Axes>"
      ]
     },
     "metadata": {
      "needs_background": "light"
     },
     "output_type": "display_data"
    }
   ],
   "source": [
    "# распределение признака heating\n",
    "ax = sns.countplot(y='heating', data=df)\n",
    "for container in ax.containers:\n",
    "        ax.bar_label(container)"
   ]
  },
  {
   "cell_type": "code",
   "execution_count": 40,
   "metadata": {},
   "outputs": [],
   "source": [
    "# исправление столбца house_type\n",
    "df.loc[(df.floors == 30) & (df.built_year == 2022) & (df.house_type == 'деревянный'), 'house_type'] = None\n",
    "df.loc[(df.floors == 28) & (df.built_year == 1928) & (df.house_type == 'деревянный'), 'built_year'] = 2019\n",
    "df.loc[(df.floors == 28) & (df.built_year == 2019) & (df.price == 17800000), 'house_type'] = None\n",
    "df.loc[(df.price == 7800000) & (df.built_year == 2021) & (df.house_type == 'сталинский'), 'built_year'] = 1954\n",
    "df.loc[(df.price == 19400000) & (df.built_year == 2014) & (df.house_type == 'сталинский'), 'house_type'] = 'монолитный'\n",
    "df.loc[(df.price == 5950000) & (df.floors == 9) & (df.house_type == 'старый фонд'), 'house_type'] = 'панельный'\n",
    "df.house_type.replace(['деревянный', 'сталинский', 'старый фонд'], 'кирпичный', inplace=True)\n",
    "df.house_type.replace(['монолитно кирпичный', 'монолитно-кирпичный, монолитный', 'монолитно-кирпичный, монолитный, кирпичный'], 'монолитно-кирпичный', inplace=True)"
   ]
  },
  {
   "cell_type": "code",
   "execution_count": 41,
   "metadata": {},
   "outputs": [
    {
     "data": {
      "image/png": "[encoded data removed]",
      "text/plain": [
       "<Figure size 432x288 with 1 Axes>"
      ]
     },
     "metadata": {
      "needs_background": "light"
     },
     "output_type": "display_data"
    }
   ],
   "source": [
    "# распределение признака house_type\n",
    "ax = sns.countplot(y='house_type', data=df)\n",
    "for container in ax.containers:\n",
    "        ax.bar_label(container)"
   ]
  },
  {
   "cell_type": "code",
   "execution_count": 42,
   "metadata": {},
   "outputs": [
    {
     "name": "stdout",
     "output_type": "stream",
     "text": [
      "[0.0, 1.0, 1.37, 1.6, 1.82, 1.85, 1.87, 1.9, 2.0, 2.07, 2.2, 2.23, 2.25, 2.3, 2.4, 2.42, 2.43, 2.45, 2.48, 2.5, 2.51, 2.52, 2.53, 2.54, 2.55, 2.56, 2.57, 2.58, 2.6, 2.61, 2.62, 2.63, 2.64, 2.65, 2.658, 2.66, 2.67, 2.68, 2.7, 2.71, 2.72, 2.73, 2.74, 2.75, 2.76, 2.77, 2.78, 2.79, 2.8, 2.81, 2.82, 2.83, 2.84, 2.85, 2.86, 2.87, 2.88, 2.89, 2.9, 2.91, 2.92, 2.93, 2.94, 2.95, 2.96, 2.97, 2.98, 2.99, 3.0, 3.01, 3.02, 3.03, 3.04, 3.05, 3.06, 3.07, 3.08, 3.09, 3.0999999, 3.1, 3.11, 3.115, 3.12, 3.13, 3.14, 3.15, 3.16, 3.17, 3.18, 3.2, 3.22, 3.23, 3.24, 3.25, 3.26, 3.27, 3.275, 3.28, 3.29, 3.3, 3.31, 3.32, 3.34, 3.35, 3.36, 3.37, 3.39, 3.4, 3.42, 3.43, 3.445, 3.45, 3.47, 3.5, 3.53, 3.55, 3.56, 3.57, 3.58, 3.6, 3.61, 3.62, 3.63, 3.64, 3.65, 3.67, 3.68, 3.7, 3.74, 3.75, 3.77, 3.78, 3.8, 3.85, 3.88, 3.9, 3.91, 3.95, 3.96, 4.0, 4.03, 4.05, 4.06, 4.1, 4.12, 4.15, 4.2, 4.3, 4.35, 4.4, 4.45, 4.5, 4.55, 4.6, 4.65, 4.7, 4.8, 4.85, 4.89, 5.0, 5.05, 5.1, 5.14, 5.15, 5.2, 5.41, 5.5, 5.6, 5.7, 5.8, 6.0, 6.2, 6.3, 6.35, 6.4, 6.5, 6.8, 7.0, 7.7, 8.65, 12.0, 13.0, 20.0, 20.7, 25.0, 26.0, 26.4, 26.5, 27.0, 28.0, 29.0, 30.0, 30.1, 31.0, 32.0, 32.8, 285.0]\n"
     ]
    }
   ],
   "source": [
    "# ранжированные уникальные значения ceiling_height\n",
    "print(sorted(df['ceiling_height'].dropna().unique()))"
   ]
  },
  {
   "cell_type": "code",
   "execution_count": 43,
   "metadata": {},
   "outputs": [],
   "source": [
    "# испаравление столбца ceiling_height\n",
    "df['ceiling_height'] = df['ceiling_height'].fillna(0)\n",
    "df['ceiling_height'] = df['ceiling_height'].transform(lambda x: round(uniform(2.4, 2.8), 2) if (x < 2.4 or 12 < x < 25) \\\n",
    "     else (round(x / 10, 2)) if 25 <= x <= 32.8 else (x / 100 if x == 285 else round(x, 2)))"
   ]
  },
  {
   "cell_type": "code",
   "execution_count": 44,
   "metadata": {},
   "outputs": [
    {
     "name": "stdout",
     "output_type": "stream",
     "text": [
      "[2.4, 2.41, 2.42, 2.43, 2.44, 2.45, 2.46, 2.47, 2.48, 2.49, 2.5, 2.51, 2.52, 2.53, 2.54, 2.55, 2.56, 2.57, 2.58, 2.59, 2.6, 2.61, 2.62, 2.63, 2.64, 2.65, 2.66, 2.67, 2.68, 2.69, 2.7, 2.71, 2.72, 2.73, 2.74, 2.75, 2.76, 2.77, 2.78, 2.79, 2.8, 2.81, 2.82, 2.83, 2.84, 2.85, 2.86, 2.87, 2.88, 2.89, 2.9, 2.91, 2.92, 2.93, 2.94, 2.95, 2.96, 2.97, 2.98, 2.99, 3.0, 3.01, 3.02, 3.03, 3.04, 3.05, 3.06, 3.07, 3.08, 3.09, 3.1, 3.11, 3.12, 3.13, 3.14, 3.15, 3.16, 3.17, 3.18, 3.2, 3.22, 3.23, 3.24, 3.25, 3.26, 3.27, 3.28, 3.29, 3.3, 3.31, 3.32, 3.34, 3.35, 3.36, 3.37, 3.39, 3.4, 3.42, 3.43, 3.44, 3.45, 3.47, 3.5, 3.53, 3.55, 3.56, 3.57, 3.58, 3.6, 3.61, 3.62, 3.63, 3.64, 3.65, 3.67, 3.68, 3.7, 3.74, 3.75, 3.77, 3.78, 3.8, 3.85, 3.88, 3.9, 3.91, 3.95, 3.96, 4.0, 4.03, 4.05, 4.06, 4.1, 4.12, 4.15, 4.2, 4.3, 4.35, 4.4, 4.45, 4.5, 4.55, 4.6, 4.65, 4.7, 4.8, 4.85, 4.89, 5.0, 5.05, 5.1, 5.14, 5.15, 5.2, 5.41, 5.5, 5.6, 5.7, 5.8, 6.0, 6.2, 6.3, 6.35, 6.4, 6.5, 6.8, 7.0, 7.7, 8.65, 12.0]\n"
     ]
    }
   ],
   "source": [
    "# проверка испаравленного столбца ceiling_height\n",
    "print(sorted(df['ceiling_height'].unique()))"
   ]
  },
  {
   "cell_type": "code",
   "execution_count": 45,
   "metadata": {},
   "outputs": [
    {
     "data": {
      "image/png": "[encoded data removed]",
      "text/plain": [
       "<Figure size 432x288 with 1 Axes>"
      ]
     },
     "metadata": {
      "needs_background": "light"
     },
     "output_type": "display_data"
    }
   ],
   "source": [
    "# гистограмма ceiling_height\n",
    "ax = sns.histplot(data=df, x='ceiling_height', bins=48)"
   ]
  },
  {
   "cell_type": "markdown",
   "metadata": {},
   "source": [
    "4. Объедениение признаков"
   ]
  },
  {
   "cell_type": "code",
   "execution_count": 46,
   "metadata": {},
   "outputs": [],
   "source": [
    "# объединение столбцов repair и finished_shell_condition\n",
    "df['interior_design'] = df['repair'].fillna(df['finished_shell_condition'])"
   ]
  },
  {
   "cell_type": "code",
   "execution_count": 47,
   "metadata": {},
   "outputs": [],
   "source": [
    "df.interior_design.replace('нет', 'без ремонта', inplace=True)\n",
    "df.interior_design.replace('чистовая', 'чистовой', inplace=True)\n",
    "df.interior_design.replace('черновая', 'черновой', inplace=True)"
   ]
  },
  {
   "cell_type": "code",
   "execution_count": 48,
   "metadata": {},
   "outputs": [
    {
     "data": {
      "image/png": "[encoded data removed]",
      "text/plain": [
       "<Figure size 432x288 with 1 Axes>"
      ]
     },
     "metadata": {
      "needs_background": "light"
     },
     "output_type": "display_data"
    }
   ],
   "source": [
    "# распределение признака interior_design\n",
    "ax = sns.countplot(y='interior_design', data=df)\n",
    "for container in ax.containers:\n",
    "        ax.bar_label(container)"
   ]
  },
  {
   "cell_type": "code",
   "execution_count": 49,
   "metadata": {},
   "outputs": [],
   "source": [
    "# удаление ненужных столбцов repair и finished_shell_condition\n",
    "df.drop(columns=['repair', 'finished_shell_condition'], inplace=True)"
   ]
  },
  {
   "cell_type": "code",
   "execution_count": 50,
   "metadata": {},
   "outputs": [
    {
     "name": "stdout",
     "output_type": "stream",
     "text": [
      "Признак interior_design содержит 26.815% пропущенных значений\n"
     ]
    }
   ],
   "source": [
    "# процент пропущеннных значений нового признака interior_design\n",
    "print(f\"Признак interior_design содержит {df['interior_design'].isna().mean().round(5) * 100}% пропущенных значений\")"
   ]
  },
  {
   "cell_type": "markdown",
   "metadata": {},
   "source": [
    "5. Обработка выбросов"
   ]
  },
  {
   "cell_type": "code",
   "execution_count": 51,
   "metadata": {},
   "outputs": [
    {
     "data": {
      "text/plain": [
       "30802    0.5\n",
       "45779    1.0\n",
       "30918    1.0\n",
       "64429    1.0\n",
       "68223    1.0\n",
       "86681    1.0\n",
       "27771    1.2\n",
       "33526    1.5\n",
       "28600    1.5\n",
       "28271    1.6\n",
       "Name: living_area, dtype: float64"
      ]
     },
     "execution_count": 51,
     "metadata": {},
     "output_type": "execute_result"
    }
   ],
   "source": [
    "# 10 наименьших значений living_area\n",
    "df['living_area'].sort_values().head(10)"
   ]
  },
  {
   "cell_type": "code",
   "execution_count": 52,
   "metadata": {},
   "outputs": [
    {
     "data": {
      "text/plain": [
       "89093"
      ]
     },
     "execution_count": 52,
     "metadata": {},
     "output_type": "execute_result"
    }
   ],
   "source": [
    "# минимальная норма жилой площади составляет 6 кв. м\n",
    "df = df.drop(df[(df.living_area < 6) & (df.living_area is not None)].index)\n",
    "len(df)"
   ]
  },
  {
   "cell_type": "code",
   "execution_count": 53,
   "metadata": {},
   "outputs": [
    {
     "data": {
      "text/plain": [
       "<AxesSubplot:xlabel='living_area'>"
      ]
     },
     "execution_count": 53,
     "metadata": {},
     "output_type": "execute_result"
    },
    {
     "data": {
      "image/png": "[encoded data removed]",
      "text/plain": [
       "<Figure size 432x288 with 1 Axes>"
      ]
     },
     "metadata": {
      "needs_background": "light"
     },
     "output_type": "display_data"
    }
   ],
   "source": [
    "# коробчатая диаграмма living_area\n",
    "sns.boxplot(x = 'living_area', data=df)"
   ]
  },
  {
   "cell_type": "markdown",
   "metadata": {},
   "source": [
    "6. Обработка пропущенных категориальных данных"
   ]
  },
  {
   "cell_type": "code",
   "execution_count": 54,
   "metadata": {},
   "outputs": [
    {
     "data": {
      "text/plain": [
       "house_type         39.917\n",
       "bathroom           30.256\n",
       "interior_design    26.812\n",
       "housing_type       14.174\n",
       "sale_type           8.721\n",
       "metro_station       4.136\n",
       "flat_type           0.000\n",
       "address             0.000\n",
       "district            0.000\n",
       "seller              0.000\n",
       "parking             0.000\n",
       "heating             0.000\n",
       "dtype: float64"
      ]
     },
     "execution_count": 54,
     "metadata": {},
     "output_type": "execute_result"
    }
   ],
   "source": [
    "# процент пропущенных значений для категориальных данных\n",
    "ds_missing = df.select_dtypes(include=['object']).isna().mean().round(5) * 100\n",
    "ds_missing.sort_values(ascending=False)"
   ]
  },
  {
   "cell_type": "code",
   "execution_count": 55,
   "metadata": {},
   "outputs": [],
   "source": [
    "# замена пропущенных наблюдений на значение \"пропущено\"\n",
    "for column in df.select_dtypes(include=['object']).columns.tolist():\n",
    "    df[column] = df[column].fillna('пропущено')"
   ]
  },
  {
   "cell_type": "code",
   "execution_count": 56,
   "metadata": {},
   "outputs": [
    {
     "data": {
      "text/plain": [
       "flat_type          0.0\n",
       "sale_type          0.0\n",
       "address            0.0\n",
       "district           0.0\n",
       "metro_station      0.0\n",
       "seller             0.0\n",
       "housing_type       0.0\n",
       "bathroom           0.0\n",
       "house_type         0.0\n",
       "parking            0.0\n",
       "heating            0.0\n",
       "interior_design    0.0\n",
       "dtype: float64"
      ]
     },
     "execution_count": 56,
     "metadata": {},
     "output_type": "execute_result"
    }
   ],
   "source": [
    "# процент пропущенных значений для категориальных данных после замены\n",
    "ds_missing = df.select_dtypes(include=['object']).isna().mean().round(5) * 100\n",
    "ds_missing.sort_values(ascending=False)"
   ]
  },
  {
   "cell_type": "markdown",
   "metadata": {},
   "source": [
    "7. Обработка пропущенных числовых данных"
   ]
  },
  {
   "cell_type": "code",
   "execution_count": 57,
   "metadata": {},
   "outputs": [
    {
     "data": {
      "text/plain": [
       "living_area       23.075\n",
       "kitchen_area      18.249\n",
       "built_year         7.763\n",
       "rooms              0.000\n",
       "price              0.000\n",
       "mortgage           0.000\n",
       "area               0.000\n",
       "floor              0.000\n",
       "floors             0.000\n",
       "ceiling_height     0.000\n",
       "is_suspicious      0.000\n",
       "dtype: float64"
      ]
     },
     "execution_count": 57,
     "metadata": {},
     "output_type": "execute_result"
    }
   ],
   "source": [
    "# процент пропущенных значений для числовых данных\n",
    "ds_missing = df.select_dtypes(exclude=['object']).isna().mean().round(5) * 100\n",
    "ds_missing.sort_values(ascending=False)"
   ]
  },
  {
   "cell_type": "markdown",
   "metadata": {},
   "source": [
    "Импутация пропущенных значений признака living_area"
   ]
  },
  {
   "cell_type": "code",
   "execution_count": 58,
   "metadata": {},
   "outputs": [],
   "source": [
    "df_before_imputation  = df.copy()"
   ]
  },
  {
   "cell_type": "code",
   "execution_count": 59,
   "metadata": {},
   "outputs": [
    {
     "name": "stdout",
     "output_type": "stream",
     "text": [
      "coefficient of determination: 0.8724723250968817\n",
      "intercept: -5.004603090495813\n",
      "slope: [ 6.43514518e-01 -3.74273519e-08  3.03703901e-01]\n"
     ]
    }
   ],
   "source": [
    "# импутация пропущенных значений признака living_area с помощью линейной регрессии\n",
    "linreg = LinearRegression()\n",
    "data = df[['area','price','rooms','living_area']]\n",
    "x_train = data[data['living_area'].notnull()].drop(columns='living_area')\n",
    "y_train = data[data['living_area'].notnull()]['living_area']\n",
    "x_test = data[data['living_area'].isnull()].drop(columns='living_area')\n",
    "y_test = data[data['living_area'].isnull()]['living_area']\n",
    "linreg.fit(x_train, y_train)\n",
    "predicted = linreg.predict(x_test)\n",
    "df.loc[df.living_area.isnull(), 'living_area'] = predicted\n",
    "print(f\"coefficient of determination: {linreg.score(x_train, y_train)}\")\n",
    "print(f\"intercept: {linreg.intercept_}\")\n",
    "print(f\"slope: {linreg.coef_}\")"
   ]
  },
  {
   "cell_type": "code",
   "execution_count": 60,
   "metadata": {},
   "outputs": [
    {
     "data": {
      "image/png": "[encoded data removed]",
      "text/plain": [
       "<Figure size 432x288 with 1 Axes>"
      ]
     },
     "metadata": {
      "needs_background": "light"
     },
     "output_type": "display_data"
    }
   ],
   "source": [
    "# точечная диаграмма признака living_area после импутации данных\n",
    "fig = plt.Figure()\n",
    "null_values = df_before_imputation['living_area'].isnull()\n",
    "fig = df.plot(x='area', y='living_area', kind='scatter', c=null_values, title='Импутация данных living_area при помощи линейной регрессии', cmap='winter', colorbar=False)"
   ]
  },
  {
   "cell_type": "code",
   "execution_count": 61,
   "metadata": {},
   "outputs": [
    {
     "name": "stdout",
     "output_type": "stream",
     "text": [
      "Количество наблюдений до удаления: 89093, количество наблюдений после удаления: 88610\n"
     ]
    }
   ],
   "source": [
    "# удаление точек данных, значение living_area которых меньше нормы 6 кв. м\n",
    "df = df.drop(df[df.living_area < 6].index)\n",
    "print(f\"Количество наблюдений до удаления: {len(df_before_imputation)}, количество наблюдений после удаления: {len(df)}\")"
   ]
  },
  {
   "cell_type": "code",
   "execution_count": 62,
   "metadata": {},
   "outputs": [
    {
     "name": "stdout",
     "output_type": "stream",
     "text": [
      "count    88610.0\n",
      "mean        39.5\n",
      "std         33.4\n",
      "min          6.0\n",
      "25%         20.0\n",
      "50%         31.4\n",
      "75%         46.0\n",
      "max        650.0\n",
      "Name: living_area, dtype: float64\n"
     ]
    },
    {
     "data": {
      "image/png": "[encoded data removed]",
      "text/plain": [
       "<Figure size 432x288 with 1 Axes>"
      ]
     },
     "metadata": {
      "needs_background": "light"
     },
     "output_type": "display_data"
    }
   ],
   "source": [
    "# описательные статистики и гистограмма living_area\n",
    "print(df['living_area'].describe().round(1))\n",
    "ax = sns.histplot(data=df, x='living_area', bins=48).set(title='Гистограмма living_area после импутации данных')"
   ]
  },
  {
   "cell_type": "markdown",
   "metadata": {},
   "source": [
    "Импутация пропущенных значений признака kitchen_area"
   ]
  },
  {
   "cell_type": "code",
   "execution_count": 63,
   "metadata": {},
   "outputs": [],
   "source": [
    "# обработка пропущенных значнений kitchen_area\n",
    "df_before_imputation_kitchen_area  = df.copy()"
   ]
  },
  {
   "cell_type": "code",
   "execution_count": 64,
   "metadata": {},
   "outputs": [
    {
     "name": "stdout",
     "output_type": "stream",
     "text": [
      "coefficient of determination: 0.2823575257144195\n",
      "intercept: 7.150066504982234\n",
      "slope: [7.40618770e-02 1.58750365e-08]\n"
     ]
    }
   ],
   "source": [
    "# импутация пропущенных значений признака living_area с помощью линейной регрессии\n",
    "linreg = LinearRegression()\n",
    "data = df[['area','price','kitchen_area']]\n",
    "x_train = data[data['kitchen_area'].notnull()].drop(columns='kitchen_area')\n",
    "y_train = data[data['kitchen_area'].notnull()]['kitchen_area']\n",
    "x_test = data[data['kitchen_area'].isnull()].drop(columns='kitchen_area')\n",
    "y_test = data[data['kitchen_area'].isnull()]['kitchen_area']\n",
    "linreg.fit(x_train, y_train)\n",
    "predicted = linreg.predict(x_test)\n",
    "df.loc[df.kitchen_area.isnull(), 'kitchen_area'] = predicted\n",
    "print(f\"coefficient of determination: {linreg.score(x_train, y_train)}\")\n",
    "print(f\"intercept: {linreg.intercept_}\")\n",
    "print(f\"slope: {linreg.coef_}\")"
   ]
  },
  {
   "cell_type": "code",
   "execution_count": 65,
   "metadata": {},
   "outputs": [
    {
     "data": {
      "image/png": "[encoded data removed]",
      "text/plain": [
       "<Figure size 432x288 with 1 Axes>"
      ]
     },
     "metadata": {
      "needs_background": "light"
     },
     "output_type": "display_data"
    }
   ],
   "source": [
    "# точеченая диаграмма признака living_area после импутации данных\n",
    "fig = plt.Figure()\n",
    "null_values = df_before_imputation_kitchen_area['kitchen_area'].isnull()\n",
    "fig = df.plot(x='area', y='kitchen_area', kind='scatter', c=null_values, title='Импутация данных kitchen_area при помощи линейной регрессии', cmap='winter', colorbar=False)"
   ]
  },
  {
   "cell_type": "code",
   "execution_count": 66,
   "metadata": {},
   "outputs": [
    {
     "name": "stdout",
     "output_type": "stream",
     "text": [
      "count    88610.0\n",
      "mean        12.9\n",
      "std          7.3\n",
      "min          0.6\n",
      "25%          8.4\n",
      "50%         11.0\n",
      "75%         15.9\n",
      "max        240.0\n",
      "Name: kitchen_area, dtype: float64\n"
     ]
    },
    {
     "data": {
      "image/png": "[encoded data removed]",
      "text/plain": [
       "<Figure size 432x288 with 1 Axes>"
      ]
     },
     "metadata": {
      "needs_background": "light"
     },
     "output_type": "display_data"
    }
   ],
   "source": [
    "# описательные статистики и гистограмма living_area\n",
    "print(df['kitchen_area'].describe().round(1))\n",
    "ax = sns.histplot(data=df, x='kitchen_area', bins=48).set(title='Гистограмма kitchen_area после импутации данных')"
   ]
  },
  {
   "cell_type": "code",
   "execution_count": 67,
   "metadata": {},
   "outputs": [
    {
     "data": {
      "text/plain": [
       "built_year        7.622\n",
       "rooms             0.000\n",
       "price             0.000\n",
       "mortgage          0.000\n",
       "area              0.000\n",
       "living_area       0.000\n",
       "kitchen_area      0.000\n",
       "floor             0.000\n",
       "floors            0.000\n",
       "ceiling_height    0.000\n",
       "is_suspicious     0.000\n",
       "dtype: float64"
      ]
     },
     "execution_count": 67,
     "metadata": {},
     "output_type": "execute_result"
    }
   ],
   "source": [
    "# процент пропущенных значений для числовых данных\n",
    "ds_missing = df.select_dtypes(exclude=['object']).isna().mean().round(5) * 100\n",
    "ds_missing.sort_values(ascending=False)"
   ]
  },
  {
   "cell_type": "markdown",
   "metadata": {},
   "source": [
    "Импутация пропущенных значений признака built_year (новостройки)"
   ]
  },
  {
   "cell_type": "code",
   "execution_count": 68,
   "metadata": {},
   "outputs": [
    {
     "data": {
      "text/plain": [
       "housing_type\n",
       "вторичное      27.9\n",
       "новостройка     1.6\n",
       "пропущено      27.5\n",
       "Name: built_year, dtype: float64"
      ]
     },
     "execution_count": 68,
     "metadata": {},
     "output_type": "execute_result"
    }
   ],
   "source": [
    "# стандартные отклонения built_year для различных housing_type\n",
    "df.groupby('housing_type')['built_year'].std().round(1)"
   ]
  },
  {
   "cell_type": "markdown",
   "metadata": {},
   "source": [
    "Так как год постройки для новостроек характеризуется малой степенью разброса, пропущенные значения built_year можно заменить средним."
   ]
  },
  {
   "cell_type": "code",
   "execution_count": 69,
   "metadata": {},
   "outputs": [],
   "source": [
    "df_newbuilt_year_mean = df.copy()"
   ]
  },
  {
   "cell_type": "code",
   "execution_count": 70,
   "metadata": {},
   "outputs": [
    {
     "data": {
      "text/plain": [
       "7.622"
      ]
     },
     "execution_count": 70,
     "metadata": {},
     "output_type": "execute_result"
    }
   ],
   "source": [
    "# процент пропущенных данных built_year перед импутацией\n",
    "df_newbuilt_year_mean['built_year'].isna().mean().round(5) * 100"
   ]
  },
  {
   "cell_type": "code",
   "execution_count": 71,
   "metadata": {},
   "outputs": [],
   "source": [
    "# импутация пропущенных значений built_year средним для новостроек\n",
    "mean_imputer = SimpleImputer(strategy='mean')\n",
    "df.loc[df.housing_type == 'новостройка', 'built_year'] = mean_imputer.fit_transform(df.loc[df.housing_type == 'новостройка', 'built_year'].values.reshape(-1,1))"
   ]
  },
  {
   "cell_type": "code",
   "execution_count": 72,
   "metadata": {},
   "outputs": [
    {
     "data": {
      "image/png": "[encoded data removed]",
      "text/plain": [
       "<Figure size 432x288 with 1 Axes>"
      ]
     },
     "metadata": {
      "needs_background": "light"
     },
     "output_type": "display_data"
    }
   ],
   "source": [
    "# точечная диаграмма импутации данных built_year\n",
    "fig = plt.Figure()\n",
    "null_values = df_newbuilt_year_mean.loc[df_newbuilt_year_mean.housing_type == 'новостройка', 'built_year'].isnull()\n",
    "fig = df.loc[df.housing_type == 'новостройка'].plot(x='area', y='built_year', kind='scatter', c=null_values, cmap='winter', title='Импутация built_year средним для новостроек', colorbar=False)\n"
   ]
  },
  {
   "cell_type": "code",
   "execution_count": 73,
   "metadata": {},
   "outputs": [
    {
     "data": {
      "text/plain": [
       "7.622"
      ]
     },
     "execution_count": 73,
     "metadata": {},
     "output_type": "execute_result"
    }
   ],
   "source": [
    "# процент пропущенных данных built_year после импутации\n",
    "df_newbuilt_year_mean['built_year'].isna().mean().round(5) * 100\n"
   ]
  },
  {
   "cell_type": "markdown",
   "metadata": {},
   "source": [
    "Обработка пропущенных значений признака built_year (вторичное жилье)"
   ]
  },
  {
   "cell_type": "code",
   "execution_count": 74,
   "metadata": {},
   "outputs": [
    {
     "name": "stdout",
     "output_type": "stream",
     "text": [
      "2625 пропущенных значений built_year для вторичного жилья\n",
      "2328 пропущенных значений built_year без указанного housing_type\n"
     ]
    }
   ],
   "source": [
    "print(f\"{df.loc[df.housing_type == 'вторичное', 'built_year'].isna().sum()} пропущенных значений built_year для вторичного жилья\")\n",
    "print(f\"{df.loc[df.housing_type == 'пропущено', 'built_year'].isna().sum()} пропущенных значений built_year без указанного housing_type\")"
   ]
  },
  {
   "cell_type": "markdown",
   "metadata": {},
   "source": [
    "Так как год постройки для вторичного жилья и объявлений без указанного housing_type характеризуется большой степенью разброса, пропущенные значения built_year нельзя заменить средним. Эти точки нужно удалить."
   ]
  },
  {
   "cell_type": "code",
   "execution_count": 75,
   "metadata": {},
   "outputs": [],
   "source": [
    "# удаление обявлений с оставшимися пропущенными значениями built_year\n",
    "df.dropna(subset=['built_year'], inplace=True)"
   ]
  },
  {
   "cell_type": "code",
   "execution_count": 76,
   "metadata": {},
   "outputs": [
    {
     "data": {
      "text/plain": [
       "(83657, 23)"
      ]
     },
     "execution_count": 76,
     "metadata": {},
     "output_type": "execute_result"
    }
   ],
   "source": [
    "df.shape"
   ]
  },
  {
   "cell_type": "code",
   "execution_count": 77,
   "metadata": {},
   "outputs": [
    {
     "data": {
      "text/plain": [
       "rooms             0.0\n",
       "price             0.0\n",
       "mortgage          0.0\n",
       "area              0.0\n",
       "living_area       0.0\n",
       "kitchen_area      0.0\n",
       "floor             0.0\n",
       "floors            0.0\n",
       "built_year        0.0\n",
       "ceiling_height    0.0\n",
       "is_suspicious     0.0\n",
       "dtype: float64"
      ]
     },
     "execution_count": 77,
     "metadata": {},
     "output_type": "execute_result"
    }
   ],
   "source": [
    "# проверка обработки пропущенных значений для числовых данных\n",
    "ds_missing = df.select_dtypes(exclude=['object']).isna().mean().round(5) * 100\n",
    "ds_missing.sort_values(ascending=False)"
   ]
  },
  {
   "cell_type": "code",
   "execution_count": 78,
   "metadata": {},
   "outputs": [
    {
     "data": {
      "text/plain": [
       "83657"
      ]
     },
     "execution_count": 78,
     "metadata": {},
     "output_type": "execute_result"
    }
   ],
   "source": [
    "# сохрание очищенных данных\n",
    "df.to_sql('ad_data_cleaned', conn, if_exists='replace', index = False)"
   ]
  },
  {
   "cell_type": "markdown",
   "metadata": {},
   "source": [
    "ИТОГ:\n",
    "Новый минимум цены (price) - 1 300 000, года постройки (built_year) - 1782.\n",
    "\n",
    "Количество уникальных значений parking сократилось с 13 до 12, heating - с 7 до 4, house_type - с 14 до 8\n",
    "\n",
    "Пропущенные данные отсутсвуют.\n",
    "\n",
    "Размерность датафрейма до очистки данных - (89184, 36), после - (81856, 23)."
   ]
  }
 ],
 "metadata": {
  "kernelspec": {
   "display_name": "Python 3.8.8 64-bit",
   "language": "python",
   "name": "python3"
  },
  "language_info": {
   "codemirror_mode": {
    "name": "ipython",
    "version": 3
   },
   "file_extension": ".py",
   "mimetype": "text/x-python",
   "name": "python",
   "nbconvert_exporter": "python",
   "pygments_lexer": "ipython3",
   "version": "3.8.8"
  },
  "orig_nbformat": 4,
  "vscode": {
   "interpreter": {
    "hash": "b837d6f52d58c74fd82dbfa8ea93f8a02691730b5f625eb00e62e727cdc52078"
   }
  }
 },
 "nbformat": 4,
 "nbformat_minor": 2
}
