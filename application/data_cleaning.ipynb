{
 "cells": [
  {
   "cell_type": "markdown",
   "metadata": {},
   "source": [
    "###  Data Cleaning / Очистка данных\n",
    "На этом этапе:\n",
    "1. Удаление дубликатов\n",
    "2. \n",
    "3. Обработка выбросов\n",
    "4. Обработка пропущенных категориальных данных\n",
    "5. Обработка пропущенных числовых данных\n",
    "\n",
    "\n",
    "Drop unwanted observations\n",
    "Fix structural errors\n",
    "Remove unwanted outliers\n",
    "Label missing categorical data\n",
    "Flag and fill missing numerical data"
   ]
  },
  {
   "cell_type": "code",
   "execution_count": 2,
   "metadata": {},
   "outputs": [],
   "source": [
    "import sqlite3\n",
    "import pandas as pd\n",
    "import numpy as np\n",
    "from matplotlib import pyplot as plt\n",
    "# %matplotlib inline\n",
    "import seaborn as sns"
   ]
  },
  {
   "cell_type": "code",
   "execution_count": 3,
   "metadata": {},
   "outputs": [],
   "source": [
    "conn = sqlite3.connect('db\\cian_fake_2.db') \n",
    "          \n",
    "df = pd.read_sql_query ('''\n",
    "                               SELECT\n",
    "                               flat_type, rooms, price, price_per_meter, sale_type, mortgage, area,\n",
    "                       living_area, kitchen_area, floor, floors, built_year, address, district, metro_station, seller,\n",
    "                       housing_type, planning, ceiling_height, bathroom, balcony_loggia, repair, view,\n",
    "                       finished_shell_condition, house_type, house_class, building_number, parking, elevators,\n",
    "                       housing_line, floor_type, entrance_number, heating, unsafe_house, garbage_disposal, gas_supply,\n",
    "                       description_text\n",
    "                               FROM ad_data\n",
    "                               ''', conn)"
   ]
  },
  {
   "cell_type": "markdown",
   "metadata": {},
   "source": [
    "1. Удаление дубликатов"
   ]
  },
  {
   "cell_type": "code",
   "execution_count": 4,
   "metadata": {},
   "outputs": [
    {
     "name": "stdout",
     "output_type": "stream",
     "text": [
      "(10000, 37)\n"
     ]
    }
   ],
   "source": [
    "# удаление обычных дубликатов\n",
    "df = df.drop_duplicates()\n",
    "print(df.shape)"
   ]
  },
  {
   "cell_type": "code",
   "execution_count": 5,
   "metadata": {},
   "outputs": [
    {
     "name": "stdout",
     "output_type": "stream",
     "text": [
      "Empty DataFrame\n",
      "Columns: [flat_type, rooms, price, price_per_meter, sale_type, mortgage, area, living_area, kitchen_area, floor, floors, built_year, address, district, metro_station, seller, housing_type, planning, ceiling_height, bathroom, balcony_loggia, repair, view, finished_shell_condition, house_type, house_class, building_number, parking, elevators, housing_line, floor_type, entrance_number, heating, unsafe_house, garbage_disposal, gas_supply, description_text]\n",
      "Index: []\n",
      "\n",
      "[0 rows x 37 columns]\n",
      "(10000, 37)\n"
     ]
    }
   ],
   "source": [
    "# помимо обычных дубликатов также больше одного объявления могут относится к одной квартире\n",
    "# у такаих дубликатов адрес, этаж, тип, количество комнат, площадь кухни должны совпадать\n",
    "print(df[df.duplicated(subset = ['address', 'flat_type', 'floor', 'floors', 'kitchen_area'])])\n",
    "df = df.drop_duplicates(subset = ['address', 'flat_type', 'floor', 'floors', 'kitchen_area'])\n",
    "print(df.shape)"
   ]
  },
  {
   "cell_type": "code",
   "execution_count": 6,
   "metadata": {},
   "outputs": [],
   "source": [
    "# TODO сейчас среди всех дубликатов остается первый. Но изначально цена и другая информация разные. Цену можно усреднить, а что делать с категориальными данными?"
   ]
  },
  {
   "cell_type": "markdown",
   "metadata": {},
   "source": [
    "2 Fix structural errors"
   ]
  },
  {
   "cell_type": "code",
   "execution_count": 7,
   "metadata": {},
   "outputs": [
    {
     "data": {
      "text/plain": [
       "array(['нет', 'предчистовая', None, 'чистовая', 'черновая'], dtype=object)"
      ]
     },
     "execution_count": 7,
     "metadata": {},
     "output_type": "execute_result"
    }
   ],
   "source": [
    "# отбражение уникальных значений столбца \"отделка\"\n",
    "df['finished_shell_condition'].unique()"
   ]
  },
  {
   "cell_type": "code",
   "execution_count": 8,
   "metadata": {},
   "outputs": [],
   "source": [
    "# замена None-значений на 0\n",
    "df['finished_shell_condition'] = df['finished_shell_condition'].fillna(0)"
   ]
  },
  {
   "cell_type": "code",
   "execution_count": 9,
   "metadata": {},
   "outputs": [
    {
     "data": {
      "text/plain": [
       "array(['нет', 'предчистовая', 0, 'чистовая', 'черновая'], dtype=object)"
      ]
     },
     "execution_count": 9,
     "metadata": {},
     "output_type": "execute_result"
    }
   ],
   "source": [
    "# проверка замены\n",
    "df['finished_shell_condition'].unique()"
   ]
  },
  {
   "cell_type": "code",
   "execution_count": 10,
   "metadata": {},
   "outputs": [
    {
     "data": {
      "text/plain": [
       "<AxesSubplot:xlabel='count', ylabel='finished_shell_condition'>"
      ]
     },
     "execution_count": 10,
     "metadata": {},
     "output_type": "execute_result"
    },
    {
     "data": {
      "image/png": "[encoded data removed]",
      "text/plain": [
       "<Figure size 432x288 with 1 Axes>"
      ]
     },
     "metadata": {
      "needs_background": "light"
     },
     "output_type": "display_data"
    }
   ],
   "source": [
    "# построение гистограммы для вывления опечаток и неодинаковых регистров\n",
    "sns.countplot(y='finished_shell_condition', data=df)"
   ]
  },
  {
   "cell_type": "code",
   "execution_count": 11,
   "metadata": {},
   "outputs": [],
   "source": [
    "# TODO если есть опечатки, исправить по типу df.roof.replace('composition', 'Composition', inplace=True)"
   ]
  },
  {
   "cell_type": "markdown",
   "metadata": {},
   "source": [
    "3 Обработка выбросов"
   ]
  },
  {
   "cell_type": "code",
   "execution_count": 12,
   "metadata": {},
   "outputs": [
    {
     "data": {
      "text/plain": [
       "<AxesSubplot:xlabel='price'>"
      ]
     },
     "execution_count": 12,
     "metadata": {},
     "output_type": "execute_result"
    },
    {
     "data": {
      "image/png": "[encoded data removed]",
      "text/plain": [
       "<Figure size 432x288 with 1 Axes>"
      ]
     },
     "metadata": {
      "needs_background": "light"
     },
     "output_type": "display_data"
    }
   ],
   "source": [
    "# коробчатая диаграмма целевой переменной\n",
    "sns.boxplot(x = 'price', data=df)"
   ]
  },
  {
   "cell_type": "code",
   "execution_count": 16,
   "metadata": {},
   "outputs": [
    {
     "data": {
      "text/plain": [
       "<AxesSubplot:xlabel='price'>"
      ]
     },
     "execution_count": 16,
     "metadata": {},
     "output_type": "execute_result"
    },
    {
     "data": {
      "image/png": "[encoded data removed]",
      "text/plain": [
       "<Figure size 432x288 with 1 Axes>"
      ]
     },
     "metadata": {
      "needs_background": "light"
     },
     "output_type": "display_data"
    }
   ],
   "source": [
    "# скрипичный график целевой переменной (плотность распределения)\n",
    "sns.violinplot(x= 'price', data=df)"
   ]
  },
  {
   "cell_type": "code",
   "execution_count": 18,
   "metadata": {},
   "outputs": [
    {
     "data": {
      "image/png": "[encoded data removed]",
      "text/plain": [
       "<Figure size 432x288 with 1 Axes>"
      ]
     },
     "metadata": {
      "needs_background": "light"
     },
     "output_type": "display_data"
    },
    {
     "data": {
      "image/png": "[encoded data removed]",
      "text/plain": [
       "<Figure size 432x288 with 1 Axes>"
      ]
     },
     "metadata": {
      "needs_background": "light"
     },
     "output_type": "display_data"
    },
    {
     "data": {
      "image/png": "[encoded data removed]",
      "text/plain": [
       "<Figure size 432x288 with 1 Axes>"
      ]
     },
     "metadata": {
      "needs_background": "light"
     },
     "output_type": "display_data"
    },
    {
     "data": {
      "image/png": "[encoded data removed]",
      "text/plain": [
       "<Figure size 432x288 with 1 Axes>"
      ]
     },
     "metadata": {
      "needs_background": "light"
     },
     "output_type": "display_data"
    }
   ],
   "source": [
    "# TODO уточнить, какие именно переменные строить\n",
    "# скрипичный график перемнной количества комнат\n",
    "sns.violinplot(x='rooms', data=df)\n",
    "plt.show()\n",
    "\n",
    "# скрипичный график переменной площади\n",
    "sns.violinplot(x='area', data=df)\n",
    "plt.show()\n",
    "\n",
    "# скрипичный график переменной высоты потолков\n",
    "sns.violinplot(x='ceiling_height', data=df)\n",
    "plt.show()\n",
    "\n",
    "# скрипичный график переменной площади кухни\n",
    "sns.violinplot(x='kitchen_area', data=df)\n",
    "plt.show()"
   ]
  },
  {
   "cell_type": "code",
   "execution_count": 19,
   "metadata": {},
   "outputs": [
    {
     "data": {
      "text/plain": [
       "7066    99.31\n",
       "4528    97.72\n",
       "8367    97.13\n",
       "166     96.97\n",
       "905     96.84\n",
       "Name: kitchen_area, dtype: float64"
      ]
     },
     "execution_count": 19,
     "metadata": {},
     "output_type": "execute_result"
    }
   ],
   "source": [
    "# предположим, что выбросы имеет переменная площади кухни\n",
    "# отображение 5 наибольших значений переменной с выбросами\n",
    "df.kitchen_area.sort_values(ascending=False).head(5)"
   ]
  },
  {
   "cell_type": "code",
   "execution_count": 20,
   "metadata": {},
   "outputs": [
    {
     "data": {
      "text/plain": [
       "10000"
      ]
     },
     "execution_count": 20,
     "metadata": {},
     "output_type": "execute_result"
    }
   ],
   "source": [
    "# удаление выбросов\n",
    "# df = df[df.lot_size < 500000]\n",
    "len(df)"
   ]
  },
  {
   "cell_type": "markdown",
   "metadata": {},
   "source": [
    "4 Обработка пропущенных категориальных данных"
   ]
  },
  {
   "cell_type": "code",
   "execution_count": 21,
   "metadata": {},
   "outputs": [
    {
     "data": {
      "text/plain": [
       "flat_type                      0\n",
       "sale_type                      0\n",
       "address                        0\n",
       "district                       0\n",
       "metro_station                  0\n",
       "seller                         0\n",
       "housing_type                3339\n",
       "planning                    2504\n",
       "bathroom                       0\n",
       "balcony_loggia                 0\n",
       "repair                      2011\n",
       "view                        2483\n",
       "finished_shell_condition       0\n",
       "house_type                  3391\n",
       "house_class                 3349\n",
       "parking                     2518\n",
       "elevators                      0\n",
       "housing_line                   0\n",
       "floor_type                  3311\n",
       "heating                        0\n",
       "unsafe_house                3306\n",
       "garbage_disposal            3361\n",
       "gas_supply                  3392\n",
       "description_text               0\n",
       "dtype: int64"
      ]
     },
     "execution_count": 21,
     "metadata": {},
     "output_type": "execute_result"
    }
   ],
   "source": [
    "# количество пропущенных наблюдений для категориальных данных\n",
    "df.select_dtypes(include=['object']).isnull().sum()"
   ]
  },
  {
   "cell_type": "code",
   "execution_count": 22,
   "metadata": {},
   "outputs": [],
   "source": [
    "# замена пропущенных наблюдений на значение \"пропущено\"\n",
    "for column in df.select_dtypes(include=['object']).columns.tolist():\n",
    "    df[column] = df[column].fillna('пропущено')"
   ]
  },
  {
   "cell_type": "code",
   "execution_count": 23,
   "metadata": {},
   "outputs": [
    {
     "data": {
      "text/plain": [
       "flat_type                   0\n",
       "sale_type                   0\n",
       "address                     0\n",
       "district                    0\n",
       "metro_station               0\n",
       "seller                      0\n",
       "housing_type                0\n",
       "planning                    0\n",
       "bathroom                    0\n",
       "balcony_loggia              0\n",
       "repair                      0\n",
       "view                        0\n",
       "finished_shell_condition    0\n",
       "house_type                  0\n",
       "house_class                 0\n",
       "parking                     0\n",
       "elevators                   0\n",
       "housing_line                0\n",
       "floor_type                  0\n",
       "heating                     0\n",
       "unsafe_house                0\n",
       "garbage_disposal            0\n",
       "gas_supply                  0\n",
       "description_text            0\n",
       "dtype: int64"
      ]
     },
     "execution_count": 23,
     "metadata": {},
     "output_type": "execute_result"
    }
   ],
   "source": [
    "# отображение пропущенных значений для категориальных данных\n",
    "df.select_dtypes(include=['object']).isnull().sum()"
   ]
  },
  {
   "cell_type": "markdown",
   "metadata": {},
   "source": [
    "5 Обработка пропущенных числовых данны"
   ]
  },
  {
   "cell_type": "code",
   "execution_count": 24,
   "metadata": {},
   "outputs": [
    {
     "data": {
      "text/plain": [
       "rooms                0\n",
       "price                0\n",
       "price_per_meter      0\n",
       "mortgage             0\n",
       "area                 0\n",
       "living_area          0\n",
       "kitchen_area         0\n",
       "floor                0\n",
       "floors               0\n",
       "built_year           0\n",
       "ceiling_height       0\n",
       "building_number    914\n",
       "entrance_number      0\n",
       "dtype: int64"
      ]
     },
     "execution_count": 24,
     "metadata": {},
     "output_type": "execute_result"
    }
   ],
   "source": [
    "# отображение пропущенных значений для числовых данных\n",
    "df.select_dtypes(exclude=['object']).isnull().sum()"
   ]
  },
  {
   "cell_type": "code",
   "execution_count": null,
   "metadata": {},
   "outputs": [],
   "source": [
    "# TODO обработать попущенные значения, заполнить либо медианой, либо средним и пр."
   ]
  },
  {
   "cell_type": "code",
   "execution_count": 26,
   "metadata": {},
   "outputs": [
    {
     "data": {
      "text/plain": [
       "10000"
      ]
     },
     "execution_count": 26,
     "metadata": {},
     "output_type": "execute_result"
    }
   ],
   "source": [
    "# сохрание очищенных данных\n",
    "df.to_sql('ad_data_cleaned', conn, if_exists='replace', index = False)"
   ]
  }
 ],
 "metadata": {
  "kernelspec": {
   "display_name": "Python 3.10.6 64-bit",
   "language": "python",
   "name": "python3"
  },
  "language_info": {
   "codemirror_mode": {
    "name": "ipython",
    "version": 3
   },
   "file_extension": ".py",
   "mimetype": "text/x-python",
   "name": "python",
   "nbconvert_exporter": "python",
   "pygments_lexer": "ipython3",
   "version": "3.10.6"
  },
  "orig_nbformat": 4,
  "vscode": {
   "interpreter": {
    "hash": "26de051ba29f2982a8de78e945f0abaf191376122a1563185a90213a26c5da77"
   }
  }
 },
 "nbformat": 4,
 "nbformat_minor": 2
}
